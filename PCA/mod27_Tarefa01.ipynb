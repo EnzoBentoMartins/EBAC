{
 "cells": [
  {
   "cell_type": "markdown",
   "metadata": {},
   "source": [
    "![Cabec%CC%A7alho_notebook.png](cabecalho_notebook.png)"
   ]
  },
  {
   "cell_type": "markdown",
   "metadata": {},
   "source": [
    "# PCA - Tarefa 01: *HAR* com PCA\n",
    "\n",
    "Vamos trabalhar com a base da demonstração feita em aula, mas vamos explorar um pouco melhor como é o desempenho da árvore variando o número de componentes principais."
   ]
  },
  {
   "cell_type": "code",
   "execution_count": 10,
   "metadata": {},
   "outputs": [],
   "source": [
    "import pandas as pd\n",
    "\n",
    "from sklearn.tree import DecisionTreeClassifier\n",
    "\n",
    "from sklearn.decomposition import PCA\n",
    "from sklearn.metrics import accuracy_score\n",
    "from sklearn.model_selection import cross_val_score\n",
    "from sklearn.model_selection import GridSearchCV\n",
    "import warnings\n",
    "\n",
    "warnings.filterwarnings(\"ignore\")\n",
    "\n",
    "filename_features = \"features.txt\"\n",
    "filename_labels = \"activity_labels.txt\"\n",
    "\n",
    "filename_subtrain = \"train/subject_train.txt\"\n",
    "filename_xtrain = \"train/X_train.txt\"\n",
    "filename_ytrain = \"train/y_train.txt\"\n",
    "\n",
    "filename_subtest = \"test/subject_test.txt\"\n",
    "filename_xtest = \"test/X_test.txt\"\n",
    "filename_ytest = \"test/y_test.txt\"\n",
    "\n",
    "# Lendo os arquivos\n",
    "features = pd.read_csv(filename_features, header=None, names=['nome_var'], sep=\"#\")['nome_var']\n",
    "labels = pd.read_csv(filename_labels, delim_whitespace=True, header=None, names=['cod_label', 'label'])\n",
    "\n",
    "subject_train = pd.read_csv(filename_subtrain, header=None, names=['subject_id'])\n",
    "X_train = pd.read_csv(filename_xtrain, delim_whitespace=True, header=None, names=features.tolist())\n",
    "y_train = pd.read_csv(filename_ytrain, header=None, names=['cod_label'])\n",
    "\n",
    "subject_test = pd.read_csv(filename_subtest, header=None, names=['subject_id'])\n",
    "X_test = pd.read_csv(filename_xtest, delim_whitespace=True, header=None, names=features.tolist())\n",
    "y_test = pd.read_csv(filename_ytest, header=None, names=['cod_label'])"
   ]
  },
  {
   "cell_type": "markdown",
   "metadata": {},
   "source": [
    "## Árvore de decisão\n",
    "\n",
    "Rode uma árvore de decisão com todas as variáveis, utilizando o ```ccp_alpha=0.001```. Avalie a acurácia nas bases de treinamento e teste. Avalie o tempo de processamento."
   ]
  },
  {
   "cell_type": "code",
   "execution_count": 18,
   "metadata": {},
   "outputs": [
    {
     "name": "stdout",
     "output_type": "stream",
     "text": [
      "Acuracia do conjunto de treino: 0.98\n",
      "Acuracio do conjunto de teste: 0.88\n",
      "CPU times: total: 2.67 s\n",
      "Wall time: 3.63 s\n"
     ]
    }
   ],
   "source": [
    "%%time\n",
    "\n",
    "modelo = DecisionTreeClassifier(ccp_alpha=0.001)\n",
    "modelo.fit(X_train, y_train)\n",
    "\n",
    "train = modelo.predict(X_train)\n",
    "test = modelo.predict(X_test)\n",
    "\n",
    "train_accuracy = accuracy_score(y_train, train)\n",
    "test_accuracy = accuracy_score(y_test, test)\n",
    "\n",
    "print(f'Acuracia do conjunto de treino: {train_accuracy:.2f}')\n",
    "print(f'Acuracio do conjunto de teste: {test_accuracy:.2f}')"
   ]
  },
  {
   "cell_type": "markdown",
   "metadata": {},
   "source": [
    "## Árvore com PCA\n",
    "\n",
    "Faça uma análise de componemtes principais das variáveis originais. Utilize apenas uma componente. Faça uma árvore de decisão com esta componente como variável explicativa.\n",
    "\n",
    "- Avalie a acurácia nas bases de treinamento e teste\n",
    "- Avalie o tempo de processamento"
   ]
  },
  {
   "cell_type": "code",
   "execution_count": 22,
   "metadata": {},
   "outputs": [
    {
     "name": "stdout",
     "output_type": "stream",
     "text": [
      "Acuracia do conjunto de treino: 1.00\n",
      "Acuracio do conjunto de teste: 0.41\n",
      "CPU times: total: 62.5 ms\n",
      "Wall time: 427 ms\n"
     ]
    }
   ],
   "source": [
    "%%time\n",
    "\n",
    "\n",
    "pca = PCA(n_components=1)\n",
    "X_train_pca = pca.fit_transform(X_train)\n",
    "X_test_pca = pca.transform(X_test)\n",
    "\n",
    "modelo = DecisionTreeClassifier()\n",
    "modelo.fit(X_train_pca, y_train)\n",
    "\n",
    "train = modelo.predict(X_train_pca)\n",
    "test = modelo.predict(X_test_pca)\n",
    "\n",
    "train_accuracy = accuracy_score(y_train, train)\n",
    "test_accuracy = accuracy_score(y_test, test)\n",
    "\n",
    "print(f'Acuracia do conjunto de treino: {train_accuracy:.2f}')\n",
    "print(f'Acuracio do conjunto de teste: {test_accuracy:.2f}')"
   ]
  },
  {
   "cell_type": "code",
   "execution_count": null,
   "metadata": {},
   "outputs": [],
   "source": []
  },
  {
   "cell_type": "markdown",
   "metadata": {},
   "source": [
    "## Testando o número de componentes\n",
    "\n",
    "Com base no código acima, teste a árvore de classificação com pelo menos as seguintes possibilidades de quantidades de componentes: ```[1, 2, 5, 10, 50]```. Avalie para cada uma delas:\n",
    "\n",
    "- Acurácia nas bases de treino e teste\n",
    "- Tempo de processamento\n"
   ]
  },
  {
   "cell_type": "code",
   "execution_count": 30,
   "metadata": {},
   "outputs": [
    {
     "name": "stdout",
     "output_type": "stream",
     "text": [
      "Acuracia do conjunto de treino: 1.00 com 1\n",
      "Acuracio do conjunto de teste: 0.41 com 1\n",
      "Acuracia do conjunto de treino: 1.00 com 2\n",
      "Acuracio do conjunto de teste: 0.51 com 2\n",
      "Acuracia do conjunto de treino: 1.00 com 5\n",
      "Acuracio do conjunto de teste: 0.76 com 5\n",
      "Acuracia do conjunto de treino: 1.00 com 10\n",
      "Acuracio do conjunto de teste: 0.80 com 10\n",
      "Acuracia do conjunto de treino: 1.00 com 50\n",
      "Acuracio do conjunto de teste: 0.80 com 50\n",
      "CPU times: total: 734 ms\n",
      "Wall time: 1.16 s\n"
     ]
    }
   ],
   "source": [
    "%%time\n",
    "\n",
    "n_components = [1, 2, 5, 10, 50]\n",
    "\n",
    "results = []\n",
    "\n",
    "for n_component in n_components:\n",
    "    pca = PCA(n_components=n_component)\n",
    "    X_train_pca = pca.fit_transform(X_train)\n",
    "    X_test_pca = pca.transform(X_test)\n",
    "\n",
    "    modelo = DecisionTreeClassifier()\n",
    "    modelo.fit(X_train_pca, y_train)\n",
    "\n",
    "    train = modelo.predict(X_train_pca)\n",
    "    test = modelo.predict(X_test_pca)\n",
    "\n",
    "    train_accuracy = accuracy_score(y_train, train)\n",
    "    test_accuracy = accuracy_score(y_test, test)\n",
    "\n",
    "    print(f'Acuracia do conjunto de treino: {train_accuracy:.2f} com {n_component}')\n",
    "    print(f'Acuracio do conjunto de teste: {test_accuracy:.2f} com {n_component}')\n",
    "    "
   ]
  },
  {
   "cell_type": "markdown",
   "metadata": {},
   "source": [
    "## Conclua\n",
    "\n",
    "- O que aconteceu com a acurácia?\n",
    "- O que aconteceu com o tempo de processamento?"
   ]
  },
  {
   "cell_type": "markdown",
   "metadata": {},
   "source": [
    "Quanto mais aumentava o número de components maior era a acurácia até chegar em 10 componentes, depois disso manteve a mesma acurácia.  \n",
    "\n",
    "O tempo de processamento reduziu do primeiro para o segundo exercicio. O terceiro teve um \"aumento\", porem por conta da quantidade de modelos criados."
   ]
  }
 ],
 "metadata": {
  "kernelspec": {
   "display_name": "Python 3 (ipykernel)",
   "language": "python",
   "name": "python3"
  },
  "language_info": {
   "codemirror_mode": {
    "name": "ipython",
    "version": 3
   },
   "file_extension": ".py",
   "mimetype": "text/x-python",
   "name": "python",
   "nbconvert_exporter": "python",
   "pygments_lexer": "ipython3",
   "version": "3.12.4"
  },
  "toc": {
   "base_numbering": 1,
   "nav_menu": {},
   "number_sections": true,
   "sideBar": true,
   "skip_h1_title": true,
   "title_cell": "Índice",
   "title_sidebar": "Conteúdo",
   "toc_cell": false,
   "toc_position": {},
   "toc_section_display": true,
   "toc_window_display": false
  },
  "varInspector": {
   "cols": {
    "lenName": 16,
    "lenType": 16,
    "lenVar": 40
   },
   "kernels_config": {
    "python": {
     "delete_cmd_postfix": "",
     "delete_cmd_prefix": "del ",
     "library": "var_list.py",
     "varRefreshCmd": "print(var_dic_list())"
    },
    "r": {
     "delete_cmd_postfix": ") ",
     "delete_cmd_prefix": "rm(",
     "library": "var_list.r",
     "varRefreshCmd": "cat(var_dic_list()) "
    }
   },
   "types_to_exclude": [
    "module",
    "function",
    "builtin_function_or_method",
    "instance",
    "_Feature"
   ],
   "window_display": false
  }
 },
 "nbformat": 4,
 "nbformat_minor": 4
}
