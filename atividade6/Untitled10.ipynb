{
  "nbformat": 4,
  "nbformat_minor": 0,
  "metadata": {
    "colab": {
      "provenance": []
    },
    "kernelspec": {
      "name": "python3",
      "display_name": "Python 3"
    },
    "language_info": {
      "name": "python"
    }
  },
  "cells": [
    {
      "cell_type": "code",
      "source": [
        "%%writefile musica.txt\n",
        "Roda Viva\n",
        "Chico Buarque\n",
        "Tem dias que a gente se sente\n",
        "Como quem partiu ou morreu\n",
        "A gente estancou de repente\n",
        "Ou foi o mundo então que cresceu\n",
        "A gente quer ter voz ativa\n",
        "No nosso destino mandar\n",
        "\n",
        "Mas eis que chega a roda viva\n",
        "E carrega o destino pra lá\n",
        "Roda mundo, roda-gigante\n",
        "Roda moinho, roda pião\n",
        "O tempo rodou num instante\n",
        "Nas voltas do meu coração\n",
        "A gente vai contra a corrente\n",
        "Até não poder resistir\n",
        "Na volta do barco é que sente\n",
        "O quanto deixou de cumprir\n",
        "Faz tempo que a gente cultiva\n",
        "A mais linda roseira que há\n",
        "Mas eis que chega a roda viva\n",
        "E carrega a roseira pra lá\n",
        "Roda mundo, roda-gigante\n",
        "Roda moinho, roda pião"
      ],
      "metadata": {
        "colab": {
          "base_uri": "https://localhost:8080/"
        },
        "id": "gYM5uRyRo_yy",
        "outputId": "1f090904-9012-4ed5-b108-35245447d257"
      },
      "execution_count": 1,
      "outputs": [
        {
          "output_type": "stream",
          "name": "stdout",
          "text": [
            "Writing musica.txt\n"
          ]
        }
      ]
    },
    {
      "cell_type": "code",
      "source": [
        "%%writefile carros.csv\n",
        "id,valor_venda,valor_manutencao,portas,pessoas,porta_malas\n",
        "1,vhigh,med,2,2,small\n",
        "2,med,vhigh,2,2,small\n",
        "3,low,vhigh,2,2,small\n",
        "4,low,high,2,2,small\n",
        "5,low,high,2,2,small\n",
        "6,low,high,4,4,big\n",
        "7,low,high,4,4,big\n",
        "8,low,med,2,2,small\n",
        "9,low,med,2,2,small\n",
        "10,low,med,2,2,small\n",
        "11,low,med,4,4,big\n",
        "12,low,low,2,2,small\n",
        "13,low,low,4,4,small\n",
        "14,low,low,4,4,med"
      ],
      "metadata": {
        "colab": {
          "base_uri": "https://localhost:8080/"
        },
        "id": "_gd4y_F-EpIK",
        "outputId": "6a1fb1ab-e65a-40dc-d656-adc1f2fdc7ef"
      },
      "execution_count": 2,
      "outputs": [
        {
          "output_type": "stream",
          "name": "stdout",
          "text": [
            "Writing carros.csv\n"
          ]
        }
      ]
    },
    {
      "cell_type": "code",
      "execution_count": 27,
      "metadata": {
        "colab": {
          "base_uri": "https://localhost:8080/"
        },
        "id": "WkQjSRkSO5li",
        "outputId": "90a8e6c7-af7f-43b4-cddc-2d1a4109ad18"
      },
      "outputs": [
        {
          "output_type": "stream",
          "name": "stdout",
          "text": [
            "['Roda Viva\\n', 'Chico Buarque\\n', 'Tem dias que a gente se sente\\n', 'Como quem partiu ou morreu\\n', 'A gente estancou de repente\\n', 'Ou foi o mundo então que cresceu\\n', 'A gente quer ter voz ativa\\n', 'No nosso destino mandar\\n', '\\n', 'Mas eis que chega a roda viva\\n', 'E carrega o destino pra lá\\n', 'Roda mundo, roda-gigante\\n', 'Roda moinho, roda pião\\n', 'O tempo rodou num instante\\n', 'Nas voltas do meu coração\\n', 'A gente vai contra a corrente\\n', 'Até não poder resistir\\n', 'Na volta do barco é que sente\\n', 'O quanto deixou de cumprir\\n', 'Faz tempo que a gente cultiva\\n', 'A mais linda roseira que há\\n', 'Mas eis que chega a roda viva\\n', 'E carrega a roseira pra lá\\n', 'Roda mundo, roda-gigante\\n', 'Roda moinho, roda pião\\n']\n",
            "Mas eis que chega a roda viva\n",
            "\n"
          ]
        }
      ],
      "source": [
        "class ArquivoTexto(object):\n",
        "\n",
        "  def __init__(self, arquivo):\n",
        "    self.arquivo = arquivo\n",
        "    self.conteudo = self.extrair_conteudo()\n",
        "\n",
        "  def extrair_conteudo(self):\n",
        "    with open(self.arquivo, 'r') as fp:\n",
        "      linha = fp.readline()\n",
        "      lista = []\n",
        "      while linha:\n",
        "        lista.append(linha)\n",
        "        linha = fp.readline()\n",
        "    return lista\n",
        "\n",
        "  def extrair_linha(self, numero_linha: int):\n",
        "      nova_linha = self.conteudo[numero_linha - 1]\n",
        "      return nova_linha\n",
        "\n",
        "arquivo_texto = ArquivoTexto('musica.txt')\n",
        "\n",
        "print(arquivo_texto.extrair_conteudo())\n",
        "\n",
        "numero = 10\n",
        "print(arquivo_texto.extrair_linha(numero))"
      ]
    },
    {
      "cell_type": "code",
      "source": [
        "class ArquivoCsv(ArquivoTexto):\n",
        "\n",
        "  def __init__(self, arquivo):\n",
        "    super().__init__(arquivo)\n",
        "    self.colunas = self.extrair_nome_colunas\n",
        "\n",
        "  def extrair_nome_colunas(self):\n",
        "    linha = self.conteudo[0]\n",
        "\n",
        "    return linha\n",
        "\n",
        "  def extrair_coluna(self, numero_coluna: int):\n",
        "    coluna = []\n",
        "    for linhas in self.conteudo:\n",
        "      campos = linhas.split(',')\n",
        "      valor = campos[numero_coluna]\n",
        "      coluna.append(valor)\n",
        "    coluna.pop(0)\n",
        "\n",
        "    return coluna\n",
        "\n",
        "  def extrair_coluna_da_linha(self, numero_coluna, numero_linha):\n",
        "    result = self.conteudo[numero_linha].split(',')\n",
        "    final_result = result[numero_coluna - 1]\n",
        "\n",
        "    return final_result\n",
        "\n",
        "arquivo_csv = ArquivoCsv('carros.csv')\n",
        "print(arquivo_csv.extrair_conteudo())\n",
        "\n",
        "linha = 10\n",
        "print(arquivo_csv.extrair_linha(linha))\n",
        "\n",
        "print(arquivo_csv.extrair_nome_colunas())\n",
        "\n",
        "print(arquivo_csv.extrair_coluna(2))\n",
        "\n",
        "print(arquivo_csv.extrair_coluna_da_linha(2, 10))"
      ],
      "metadata": {
        "colab": {
          "base_uri": "https://localhost:8080/"
        },
        "id": "u0WfpDonEsE7",
        "outputId": "38c087f0-5a22-4508-9a69-1195dc392654"
      },
      "execution_count": 50,
      "outputs": [
        {
          "output_type": "stream",
          "name": "stdout",
          "text": [
            "['id,valor_venda,valor_manutencao,portas,pessoas,porta_malas\\n', '1,vhigh,med,2,2,small\\n', '2,med,vhigh,2,2,small\\n', '3,low,vhigh,2,2,small\\n', '4,low,high,2,2,small\\n', '5,low,high,2,2,small\\n', '6,low,high,4,4,big\\n', '7,low,high,4,4,big\\n', '8,low,med,2,2,small\\n', '9,low,med,2,2,small\\n', '10,low,med,2,2,small\\n', '11,low,med,4,4,big\\n', '12,low,low,2,2,small\\n', '13,low,low,4,4,small\\n', '14,low,low,4,4,med\\n']\n",
            "9,low,med,2,2,small\n",
            "\n",
            "id,valor_venda,valor_manutencao,portas,pessoas,porta_malas\n",
            "\n",
            "['med', 'vhigh', 'vhigh', 'high', 'high', 'high', 'high', 'med', 'med', 'med', 'med', 'low', 'low', 'low']\n",
            "low\n"
          ]
        }
      ]
    }
  ]
}