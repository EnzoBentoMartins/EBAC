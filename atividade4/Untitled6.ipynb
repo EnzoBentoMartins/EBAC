{
  "nbformat": 4,
  "nbformat_minor": 0,
  "metadata": {
    "colab": {
      "provenance": []
    },
    "kernelspec": {
      "name": "python3",
      "display_name": "Python 3"
    },
    "language_info": {
      "name": "python"
    }
  },
  "cells": [
    {
      "cell_type": "code",
      "execution_count": 19,
      "metadata": {
        "colab": {
          "base_uri": "https://localhost:8080/"
        },
        "id": "Y8SpFOrJ8y0b",
        "outputId": "3e5de56b-339e-4d05-e5cb-215d6f7bef3d"
      },
      "outputs": [
        {
          "output_type": "stream",
          "name": "stdout",
          "text": [
            "Overwriting carros.csv\n"
          ]
        }
      ],
      "source": [
        "%%writefile carros.csv\n",
        "id,valor_venda,valor_manutencao,portas,pessoas,porta_malas\n",
        "1,high,med,2,2,small\n",
        "2,med,vhigh,2,2,small\n",
        "3,low,vhigh,2,2,small\n",
        "3,low,vhigh,2,2,small\n",
        "4,low,high,2,2,small\n",
        "5,low,high,2,2,small\n",
        "6,low,high,4,4,big\n",
        "7,low,high,4,4,big\n",
        "8,low,med,2,2,small\n",
        "9,low,med,2,2,small\n",
        "10,low,med,2,2,small\n",
        "11,low,med,4,4,big\n",
        "12,low,low,2,2,small\n",
        "13,low,low,4,4,small\n",
        "14,low,low,4,4,med"
      ]
    },
    {
      "cell_type": "code",
      "source": [
        "%%writefile musica.txt\n",
        "Roda Viva\n",
        "Chico Buarque\n",
        "Tem dias que a gente se sente\n",
        "Como quem partiu ou morreu\n",
        "A gente estancou de repente\n",
        "Ou foi o mundo então que cresceu\n",
        "A gente quer ter voz ativa\n",
        "No nosso destino mandar\n",
        "Mas eis que chega a roda viva\n",
        "E carrega o destino pra lá\n",
        "Roda mundo, roda-gigante\n",
        "Roda moinho, roda pião\n",
        "O tempo rodou num instante\n",
        "Nas voltas do meu coração\n",
        "A gente vai contra a corrente\n",
        "Até não poder resistir\n",
        "Na volta do barco é que sente\n",
        "O quanto deixou de cumprir\n",
        "Faz tempo que a gente cultiva\n",
        "A mais linda roseira que há\n",
        "Mas eis que chega a roda viva\n",
        "E carrega a roseira pra lá\n",
        "Roda mundo, roda-gigante\n",
        "Roda moinho, roda pião"
      ],
      "metadata": {
        "colab": {
          "base_uri": "https://localhost:8080/"
        },
        "id": "Tx0v5ofS9u4f",
        "outputId": "95a82038-213d-49dc-c729-a232bbc30241"
      },
      "execution_count": 25,
      "outputs": [
        {
          "output_type": "stream",
          "name": "stdout",
          "text": [
            "Overwriting musica.txt\n"
          ]
        }
      ]
    },
    {
      "cell_type": "code",
      "source": [
        "valor_venda = []\n",
        "\n",
        "with open(file='./carros.csv', mode='r', encoding='utf8') as arquivo:\n",
        "  linha = arquivo.readline()\n",
        "  linha = arquivo.readline()\n",
        "  while linha:\n",
        "    linha_separada = linha.split(sep=',')\n",
        "    valor = linha_separada[1]\n",
        "    valor_venda.append(valor)\n",
        "    linha = arquivo.readline()\n",
        "\n",
        "print(valor_venda)"
      ],
      "metadata": {
        "colab": {
          "base_uri": "https://localhost:8080/"
        },
        "id": "Dbkyt7Ef-Vzq",
        "outputId": "9ec00778-688c-4c0b-a3a6-8cae6754af6e"
      },
      "execution_count": 6,
      "outputs": [
        {
          "output_type": "stream",
          "name": "stdout",
          "text": [
            "['high', 'med', 'low', 'low', 'low', 'low', 'low', 'low', 'low', 'low', 'low', 'low', 'low', 'low', 'low']\n"
          ]
        }
      ]
    },
    {
      "cell_type": "code",
      "source": [
        "coluna = []\n",
        "\n",
        "def extrair_coluna_csv(nome_arquivo: str, indice_coluna: int):\n",
        "  with open(file=nome_arquivo, mode='r', encoding='utf8') as fp:\n",
        "    linha = fp.readline()\n",
        "    linha = fp.readline()\n",
        "    while linha:\n",
        "      extrair_coluna = linha.split(sep=',')\n",
        "      valor = extrair_coluna[indice_coluna]\n",
        "      coluna.append(valor)\n",
        "      linha = fp.readline()\n",
        "\n",
        "  return coluna\n",
        "\n",
        "valor_manutencao = extrair_coluna_csv('./carros.csv', 2)\n",
        "print(valor_manutencao)"
      ],
      "metadata": {
        "colab": {
          "base_uri": "https://localhost:8080/"
        },
        "id": "DEI3_I3YEvV5",
        "outputId": "d0dada3f-10d7-4cd4-97cb-58df9c1b1b17"
      },
      "execution_count": 15,
      "outputs": [
        {
          "output_type": "stream",
          "name": "stdout",
          "text": [
            "['med', 'vhigh', 'vhigh', 'vhigh', 'high', 'high', 'high', 'high', 'med', 'med', 'med', 'med', 'low', 'low', 'low']\n"
          ]
        }
      ]
    },
    {
      "cell_type": "code",
      "source": [
        "def extrair_col_csv(nome_arquivo: str, indice_col: int, tipo_dado: str):\n",
        "\n",
        "  column = []\n",
        "\n",
        "  with open(file=nome_arquivo, mode='r', encoding='utf8') as fp:\n",
        "    linha = fp.readline()\n",
        "    linha = fp.readline()\n",
        "    while linha:\n",
        "      extrair_col = linha.split(sep=',')\n",
        "      valor = extrair_col[indice_col]\n",
        "      if type(valor) == tipo_dado:\n",
        "        column.append(valor)\n",
        "      else:\n",
        "        valor = tipo_dado(valor)\n",
        "        column.append(valor)\n",
        "      linha = fp.readline()\n",
        "\n",
        "  return column\n",
        "\n",
        "teste = extrair_col_csv('carros.csv', 0, str)\n",
        "\n",
        "print(teste)\n"
      ],
      "metadata": {
        "colab": {
          "base_uri": "https://localhost:8080/"
        },
        "id": "dtl0MyuyJ6Y5",
        "outputId": "25bebf13-8a50-43c7-b6fd-6606953f0a59"
      },
      "execution_count": 22,
      "outputs": [
        {
          "output_type": "stream",
          "name": "stdout",
          "text": [
            "['1', '2', '3', '3', '4', '5', '6', '7', '8', '9', '10', '11', '12', '13', '14']\n"
          ]
        }
      ]
    },
    {
      "cell_type": "code",
      "source": [
        "def extrair_linha_txt(nome_arquivo: str, numero_linha: int):\n",
        "\n",
        "  linhas = []\n",
        "\n",
        "  with open(file=nome_arquivo, mode='r', encoding='utf8') as fp:\n",
        "    linha = fp.readline()\n",
        "    while linha:\n",
        "      linhas.append(linha)\n",
        "      linha = fp.readline()\n",
        "    nova_linha = linhas[numero_linha - 2]\n",
        "    extrair_palavras = nova_linha.split(sep=' ')\n",
        "  return extrair_palavras\n",
        "\n",
        "teste = extrair_linha_txt('musica.txt', 10)\n",
        "\n",
        "print(teste)"
      ],
      "metadata": {
        "colab": {
          "base_uri": "https://localhost:8080/"
        },
        "id": "IQn3qDp8Oze0",
        "outputId": "4652f3de-775e-4ea6-ce21-e297341543c9"
      },
      "execution_count": 14,
      "outputs": [
        {
          "output_type": "stream",
          "name": "stdout",
          "text": [
            "['Mas', 'eis', 'que', 'chega', 'a', 'roda', 'viva\\n']\n"
          ]
        }
      ]
    }
  ]
}