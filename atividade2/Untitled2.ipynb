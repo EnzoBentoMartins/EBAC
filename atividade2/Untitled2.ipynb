{
  "nbformat": 4,
  "nbformat_minor": 0,
  "metadata": {
    "colab": {
      "provenance": []
    },
    "kernelspec": {
      "name": "python3",
      "display_name": "Python 3"
    },
    "language_info": {
      "name": "python"
    }
  },
  "cells": [
    {
      "cell_type": "code",
      "execution_count": 5,
      "metadata": {
        "colab": {
          "base_uri": "https://localhost:8080/"
        },
        "id": "a2qYRHoViK6-",
        "outputId": "efece5e2-bf52-45bb-df47-2db0da2ed8cd"
      },
      "outputs": [
        {
          "output_type": "stream",
          "name": "stdout",
          "text": [
            "['O Poderoso Chefão', 'Um Sonho De Liberdade', 'Batman - O Cavaleiro Das Trevas', 'O Poderoso Chefão II', '12 Homens E Uma Sentença', 'A lista De Schindler', 'O Senhor Dos Aneis', 'Pulp Fiction', 'O Senhor Dos Aneis II', 'Três Homens Em Conflito']\n",
            "11\n",
            "['Um Sonho De Liberdade', 'O Poderoso Chefão', 'Um Sonho De Liberdade', 'Batman - O Cavaleiro Das Trevas', 'O Poderoso Chefão II', '12 Homens E Uma Sentença', 'A lista De Schindler', 'O Senhor Dos Aneis', 'Pulp Fiction', 'O Senhor Dos Aneis II', 'Três Homens Em Conflito']\n",
            "10\n",
            "['Um Sonho De Liberdade', 'O Poderoso Chefão', 'Batman - O Cavaleiro Das Trevas', 'O Poderoso Chefão II', '12 Homens E Uma Sentença', 'A lista De Schindler', 'O Senhor Dos Aneis', 'Pulp Fiction', 'O Senhor Dos Aneis II', 'Três Homens Em Conflito']\n"
          ]
        }
      ],
      "source": [
        "filmes = ['O Poderoso Chefão',\n",
        "          'Um Sonho De Liberdade',\n",
        "          'Batman - O Cavaleiro Das Trevas',\n",
        "          'O Poderoso Chefão II',\n",
        "          '12 Homens E Uma Sentença',\n",
        "          'A lista De Schindler',\n",
        "          'O Senhor Dos Aneis',\n",
        "          'Pulp Fiction',\n",
        "          'O Senhor Dos Aneis II',\n",
        "          'Três Homens Em Conflito']\n",
        "\n",
        "print(filmes)\n",
        "\n",
        "filmes.insert(0, 'Um Sonho De Liberdade')\n",
        "print(filmes)\n",
        "\n",
        "filmes.pop(2)\n",
        "print(filmes)\n"
      ]
    },
    {
      "cell_type": "code",
      "source": [
        "filmes = ['O Poderoso Chefão',\n",
        "          'Um Sonho De Liberdade',\n",
        "          'Batman - O Cavaleiro Das Trevas',\n",
        "          'O Poderoso Chefão II',\n",
        "          '12 Homens E Uma Sentença',\n",
        "          'A lista De Schindler',\n",
        "          'O Senhor Dos Aneis',\n",
        "          'Pulp Fiction',\n",
        "          'Pulp Fiction',\n",
        "          'O Senhor Dos Aneis II',\n",
        "          'O Senhor Dos Aneis II',\n",
        "          'Três Homens Em Conflito',\n",
        "          'Três Homens Em Conflito']\n",
        "\n",
        "print(filmes)\n",
        "\n",
        "filmes = set(filmes)\n",
        "print(filmes)"
      ],
      "metadata": {
        "colab": {
          "base_uri": "https://localhost:8080/"
        },
        "id": "9YqX4fy6rWYl",
        "outputId": "5b22d098-26fe-4944-b1e3-b6b8e6a15d31"
      },
      "execution_count": 8,
      "outputs": [
        {
          "output_type": "stream",
          "name": "stdout",
          "text": [
            "['O Poderoso Chefão', 'Um Sonho De Liberdade', 'Batman - O Cavaleiro Das Trevas', 'O Poderoso Chefão II', '12 Homens E Uma Sentença', 'A lista De Schindler', 'O Senhor Dos Aneis', 'Pulp Fiction', 'Pulp Fiction', 'O Senhor Dos Aneis II', 'O Senhor Dos Aneis II', 'Três Homens Em Conflito', 'Três Homens Em Conflito']\n",
            "{'O Senhor Dos Aneis II', 'Um Sonho De Liberdade', 'A lista De Schindler', 'O Poderoso Chefão II', 'O Senhor Dos Aneis', 'Pulp Fiction', 'Três Homens Em Conflito', 'O Poderoso Chefão', '12 Homens E Uma Sentença', 'Batman - O Cavaleiro Das Trevas'}\n"
          ]
        }
      ]
    },
    {
      "cell_type": "code",
      "source": [
        "filmes = []\n",
        "\n",
        "filme = {'nome':'O Poderoso Chefão',\n",
        "         'ano': 1972,\n",
        "         'sinopse':'O patriarca idoso de uma dinastia do crime organizado transfere o controle de seu império clandestino para seu filho relutante.'}\n",
        "filmes.append(filme)\n",
        "\n",
        "filme = {'nome':'Um Sonho De Liberdade',\n",
        "         'ano': 1994,\n",
        "         'sinopse':'Dois homens presos se reúnem ao longo de vários anos, encontrando consolo e eventual redenção através de atos de decência comum.'}\n",
        "filmes.append(filme)\n",
        "\n",
        "filme = {'nome':'Batman - O Cavaleiro Das Trevas',\n",
        "         'ano': 2008,\n",
        "         'sinopse': 'Agora com a ajuda do tenente Jim Gordon e do promotor público Harvey Dent, Batman tem tudo para banir o crime de Gotham City de uma vez por todas. Mas em breve, os três serão vítimas do Coringa, que pretende lançar Gotham em uma anarquia.'}\n",
        "filmes.append(filme)\n",
        "\n",
        "filme = {'nome':'O Poderoso Chefão II',\n",
        "         'ano': 1974,\n",
        "         'sinopse': 'Em 1950, Michael Corleone, agora à frente da família, tenta expandir o negócio do crime a Las Vegas, Los Angeles e Cuba. Paralelamente, é revelada a história de Vito Corleone, e de como saiu da Sicília e chegou a Nova Iorque.'}\n",
        "filmes.append(filme)\n",
        "\n",
        "filme = {'nome':'12 Homens E Uma Sentença',\n",
        "         'ano': 1957,\n",
        "         'sinopse': 'O julgamento de um assassinato em Nova Iorque é frustrado por um único membro, cujo ceticismo força o júri a considerar cuidadosamente as evidências antes de dar o veredito.'}\n",
        "filmes.append(filme)\n",
        "\n",
        "filme = {'nome':'A Lista De Schindler',\n",
        "         'ano': 1993,\n",
        "         'sinopse': 'Na Polônia ocupada pelos alemães durante a Segunda Guerra Mundial, o industrial Oskar Schindler começa a ser preocupar com seus trabalhadores judeus depois de testemunhar sua perseguição pelos nazistas.'}\n",
        "filmes.append(filme)\n",
        "\n",
        "filme = {'nome':'O Senhor Dos Aneis II',\n",
        "         'ano': 2003,\n",
        "         'sinopse':'Gandalf e Aragorn lideram o Mundo dos Homens contra o exército de Sauron para desviar o olhar de Frodo e Sam quando eles se aproximam á Montanha da Perdição com o Um Anel.'}\n",
        "filmes.append(filme)\n",
        "\n",
        "filme = {'nome':'Pulp Fiction',\n",
        "         'ano': 1994,\n",
        "         'sinopse':'As vidas de dois assassinos da máfia, um boxeador, um gângster e sua esposa, e um par de bandidos se entrelaçam em quatro histórias de violência e redenção.'}\n",
        "filmes.append(filme)\n",
        "\n",
        "filme = {'nome':'O Senhor Dos Aneis',\n",
        "         'ano': 2001,\n",
        "         'sinopse':'Um manso hobbit do Condado e oito companheiros partem em uma jornada para destruir o poderoso Um Anel e salvar a Terra-média das Trevas.'}\n",
        "filmes.append(filme)\n",
        "\n",
        "filme = {'nome':'Três Homens Em Conflito',\n",
        "         'ano': 1966,\n",
        "         'sinopse':'Um impostor se junta com dois homens para encontrar fortuna num remoto cemitério.'}\n",
        "filmes.append(filme)\n",
        "\n",
        "\n",
        "print(filmes)"
      ],
      "metadata": {
        "colab": {
          "base_uri": "https://localhost:8080/"
        },
        "id": "6REOqAAOs4jh",
        "outputId": "c57044bb-0acd-4c16-a4ec-9961c69a7cbf"
      },
      "execution_count": 14,
      "outputs": [
        {
          "output_type": "stream",
          "name": "stdout",
          "text": [
            "[{'nome': 'O Poderoso Chefão', 'ano': 1972, 'sinopse': 'O patriarca idoso de uma dinastia do crime organizado transfere o controle de seu império clandestino para seu filho relutante.'}, {'nome': 'Um Sonho De Liberdade', 'ano': 1994, 'sinopse': 'Dois homens presos se reúnem ao longo de vários anos, encontrando consolo e eventual redenção através de atos de decência comum.'}, {'nome': 'Batman - O Cavaleiro Das Trevas', 'ano': 2008, 'sinopse': 'Agora com a ajuda do tenente Jim Gordon e do promotor público Harvey Dent, Batman tem tudo para banir o crime de Gotham City de uma vez por todas. Mas em breve, os três serão vítimas do Coringa, que pretende lançar Gotham em uma anarquia.'}, {'nome': 'O Poderoso Chefão II', 'ano': 1974, 'sinopse': 'Em 1950, Michael Corleone, agora à frente da família, tenta expandir o negócio do crime a Las Vegas, Los Angeles e Cuba. Paralelamente, é revelada a história de Vito Corleone, e de como saiu da Sicília e chegou a Nova Iorque.'}, {'nome': '12 Homens E Uma Sentença', 'ano': 1957, 'sinopse': 'O julgamento de um assassinato em Nova Iorque é frustrado por um único membro, cujo ceticismo força o júri a considerar cuidadosamente as evidências antes de dar o veredito.'}, {'nome': 'A Lista De Schindler', 'ano': 1993, 'sinopse': 'Na Polônia ocupada pelos alemães durante a Segunda Guerra Mundial, o industrial Oskar Schindler começa a ser preocupar com seus trabalhadores judeus depois de testemunhar sua perseguição pelos nazistas.'}, {'nome': 'O Senhor Dos Aneis II', 'ano': 2003, 'sinopse': 'Gandalf e Aragorn lideram o Mundo dos Homens contra o exército de Sauron para desviar o olhar de Frodo e Sam quando eles se aproximam á Montanha da Perdição com o Um Anel.'}, {'nome': 'Pulp Fiction', 'ano': 1994, 'sinopse': 'As vidas de dois assassinos da máfia, um boxeador, um gângster e sua esposa, e um par de bandidos se entrelaçam em quatro histórias de violência e redenção.'}, {'nome': 'O Senhor Dos Aneis', 'ano': 2001, 'sinopse': 'Um manso hobbit do Condado e oito companheiros partem em uma jornada para destruir o poderoso Um Anel e salvar a Terra-média das Trevas.'}, {'nome': 'Três Homens Em Conflito', 'ano': 1966, 'sinopse': 'Um impostor se junta com dois homens para encontrar fortuna num remoto cemitério.'}]\n"
          ]
        }
      ]
    }
  ]
}