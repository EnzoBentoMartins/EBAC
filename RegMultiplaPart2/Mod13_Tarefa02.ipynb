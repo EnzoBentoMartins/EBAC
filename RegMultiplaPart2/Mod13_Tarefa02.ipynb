{
 "cells": [
  {
   "cell_type": "markdown",
   "metadata": {},
   "source": [
    "# EBAC - Regressão II - regressão múltipla\n",
    "\n",
    "## Tarefa I"
   ]
  },
  {
   "cell_type": "markdown",
   "metadata": {},
   "source": [
    "#### Previsão de renda II\n",
    "\n",
    "Vamos continuar trabalhando com a base 'previsao_de_renda.csv', que é a base do seu próximo projeto. Vamos usar os recursos que vimos até aqui nesta base.\n",
    "\n",
    "|variavel|descrição|\n",
    "|-|-|\n",
    "|data_ref                | Data de referência de coleta das variáveis |\n",
    "|index                   | Código de identificação do cliente|\n",
    "|sexo                    | Sexo do cliente|\n",
    "|posse_de_veiculo        | Indica se o cliente possui veículo|\n",
    "|posse_de_imovel         | Indica se o cliente possui imóvel|\n",
    "|qtd_filhos              | Quantidade de filhos do cliente|\n",
    "|tipo_renda              | Tipo de renda do cliente|\n",
    "|educacao                | Grau de instrução do cliente|\n",
    "|estado_civil            | Estado civil do cliente|\n",
    "|tipo_residencia         | Tipo de residência do cliente (própria, alugada etc)|\n",
    "|idade                   | Idade do cliente|\n",
    "|tempo_emprego           | Tempo no emprego atual|\n",
    "|qt_pessoas_residencia   | Quantidade de pessoas que moram na residência|\n",
    "|renda                   | Renda em reais|"
   ]
  },
  {
   "cell_type": "code",
   "execution_count": 425,
   "metadata": {},
   "outputs": [],
   "source": [
    "import pandas as pd\n",
    "import numpy as np\n",
    "import seaborn as sns\n",
    "import statsmodels.formula.api as smf\n",
    "import statsmodels.api as sm\n",
    "import patsy\n",
    "from sklearn.model_selection import train_test_split\n",
    "from sklearn.metrics import mean_squared_error, r2_score\n",
    "from sklearn import datasets\n",
    "from sklearn.tree import DecisionTreeRegressor\n",
    "from sklearn import tree"
   ]
  },
  {
   "cell_type": "code",
   "execution_count": 340,
   "metadata": {},
   "outputs": [
    {
     "data": {
      "text/plain": [
       "posse_de_veiculo                 0\n",
       "posse_de_imovel                  0\n",
       "qtd_filhos                       0\n",
       "idade                            0\n",
       "tempo_emprego                    0\n",
       "qt_pessoas_residencia            0\n",
       "renda                            0\n",
       "sexo_M                           0\n",
       "tipo_renda_Bolsista              0\n",
       "tipo_renda_Empresário            0\n",
       "tipo_renda_Pensionista           0\n",
       "tipo_renda_Servidor público      0\n",
       "educacao_Pós graduação           0\n",
       "educacao_Secundário              0\n",
       "educacao_Superior completo       0\n",
       "educacao_Superior incompleto     0\n",
       "estado_civil_Separado            0\n",
       "estado_civil_Solteiro            0\n",
       "estado_civil_União               0\n",
       "estado_civil_Viúvo               0\n",
       "tipo_residencia_Casa             0\n",
       "tipo_residencia_Com os pais      0\n",
       "tipo_residencia_Comunitário      0\n",
       "tipo_residencia_Estúdio          0\n",
       "tipo_residencia_Governamental    0\n",
       "dtype: int64"
      ]
     },
     "execution_count": 340,
     "metadata": {},
     "output_type": "execute_result"
    }
   ],
   "source": [
    "df = pd.read_csv('previsao_de_renda.csv')\n",
    "df = df.drop(columns=['data_ref', 'id_cliente', 'Unnamed: 0'])\n",
    "df = pd.get_dummies(df, columns=['sexo', 'tipo_renda', 'educacao', 'estado_civil', 'tipo_residencia'], drop_first=True)\n",
    "df = df.astype(float).dropna()\n",
    "df.isnull().sum()"
   ]
  },
  {
   "cell_type": "code",
   "execution_count": 342,
   "metadata": {},
   "outputs": [
    {
     "name": "stdout",
     "output_type": "stream",
     "text": [
      "<class 'pandas.core.frame.DataFrame'>\n",
      "Index: 12427 entries, 0 to 14999\n",
      "Data columns (total 25 columns):\n",
      " #   Column                         Non-Null Count  Dtype  \n",
      "---  ------                         --------------  -----  \n",
      " 0   posse_de_veiculo               12427 non-null  float64\n",
      " 1   posse_de_imovel                12427 non-null  float64\n",
      " 2   qtd_filhos                     12427 non-null  float64\n",
      " 3   idade                          12427 non-null  float64\n",
      " 4   tempo_emprego                  12427 non-null  float64\n",
      " 5   qt_pessoas_residencia          12427 non-null  float64\n",
      " 6   renda                          12427 non-null  float64\n",
      " 7   sexo_M                         12427 non-null  float64\n",
      " 8   tipo_renda_Bolsista            12427 non-null  float64\n",
      " 9   tipo_renda_Empresário          12427 non-null  float64\n",
      " 10  tipo_renda_Pensionista         12427 non-null  float64\n",
      " 11  tipo_renda_Servidor público    12427 non-null  float64\n",
      " 12  educacao_Pós graduação         12427 non-null  float64\n",
      " 13  educacao_Secundário            12427 non-null  float64\n",
      " 14  educacao_Superior completo     12427 non-null  float64\n",
      " 15  educacao_Superior incompleto   12427 non-null  float64\n",
      " 16  estado_civil_Separado          12427 non-null  float64\n",
      " 17  estado_civil_Solteiro          12427 non-null  float64\n",
      " 18  estado_civil_União             12427 non-null  float64\n",
      " 19  estado_civil_Viúvo             12427 non-null  float64\n",
      " 20  tipo_residencia_Casa           12427 non-null  float64\n",
      " 21  tipo_residencia_Com os pais    12427 non-null  float64\n",
      " 22  tipo_residencia_Comunitário    12427 non-null  float64\n",
      " 23  tipo_residencia_Estúdio        12427 non-null  float64\n",
      " 24  tipo_residencia_Governamental  12427 non-null  float64\n",
      "dtypes: float64(25)\n",
      "memory usage: 2.5 MB\n"
     ]
    }
   ],
   "source": [
    "df.info()"
   ]
  },
  {
   "cell_type": "markdown",
   "metadata": {},
   "source": [
    "1. Separe a base em treinamento e teste (25% para teste, 75% para treinamento).\n",
    "2. Rode uma regularização *ridge* com alpha = [0, 0.001, 0.005, 0.01, 0.05, 0.1] e avalie o $R^2$ na base de testes. Qual o melhor modelo?\n",
    "3. Faça o mesmo que no passo 2, com uma regressão *LASSO*. Qual método chega a um melhor resultado?\n",
    "4. Rode um modelo *stepwise*. Avalie o $R^2$ na vase de testes. Qual o melhor resultado?\n",
    "5. Compare os parâmetros e avalie eventuais diferenças. Qual modelo você acha o melhor de todos?\n",
    "6. Partindo dos modelos que você ajustou, tente melhorar o $R^2$ na base de testes. Use a criatividade, veja se consegue inserir alguma transformação ou combinação de variáveis.\n",
    "7. Ajuste uma árvore de regressão e veja se consegue um $R^2$ melhor com ela."
   ]
  },
  {
   "cell_type": "code",
   "execution_count": 344,
   "metadata": {},
   "outputs": [
    {
     "data": {
      "text/html": [
       "<div>\n",
       "<style scoped>\n",
       "    .dataframe tbody tr th:only-of-type {\n",
       "        vertical-align: middle;\n",
       "    }\n",
       "\n",
       "    .dataframe tbody tr th {\n",
       "        vertical-align: top;\n",
       "    }\n",
       "\n",
       "    .dataframe thead th {\n",
       "        text-align: right;\n",
       "    }\n",
       "</style>\n",
       "<table border=\"1\" class=\"dataframe\">\n",
       "  <thead>\n",
       "    <tr style=\"text-align: right;\">\n",
       "      <th></th>\n",
       "      <th>posse_de_veiculo</th>\n",
       "      <th>posse_de_imovel</th>\n",
       "      <th>qtd_filhos</th>\n",
       "      <th>idade</th>\n",
       "      <th>tempo_emprego</th>\n",
       "      <th>qt_pessoas_residencia</th>\n",
       "      <th>renda</th>\n",
       "      <th>sexo_M</th>\n",
       "      <th>tipo_renda_Bolsista</th>\n",
       "      <th>tipo_renda_Empresário</th>\n",
       "      <th>...</th>\n",
       "      <th>educacao_Superior incompleto</th>\n",
       "      <th>estado_civil_Separado</th>\n",
       "      <th>estado_civil_Solteiro</th>\n",
       "      <th>estado_civil_União</th>\n",
       "      <th>estado_civil_Viúvo</th>\n",
       "      <th>tipo_residencia_Casa</th>\n",
       "      <th>tipo_residencia_Com os pais</th>\n",
       "      <th>tipo_residencia_Comunitário</th>\n",
       "      <th>tipo_residencia_Estúdio</th>\n",
       "      <th>tipo_residencia_Governamental</th>\n",
       "    </tr>\n",
       "  </thead>\n",
       "  <tbody>\n",
       "    <tr>\n",
       "      <th>0</th>\n",
       "      <td>0.0</td>\n",
       "      <td>1.0</td>\n",
       "      <td>0.0</td>\n",
       "      <td>26.0</td>\n",
       "      <td>6.602740</td>\n",
       "      <td>1.0</td>\n",
       "      <td>8060.34</td>\n",
       "      <td>0.0</td>\n",
       "      <td>0.0</td>\n",
       "      <td>1.0</td>\n",
       "      <td>...</td>\n",
       "      <td>0.0</td>\n",
       "      <td>0.0</td>\n",
       "      <td>1.0</td>\n",
       "      <td>0.0</td>\n",
       "      <td>0.0</td>\n",
       "      <td>1.0</td>\n",
       "      <td>0.0</td>\n",
       "      <td>0.0</td>\n",
       "      <td>0.0</td>\n",
       "      <td>0.0</td>\n",
       "    </tr>\n",
       "    <tr>\n",
       "      <th>1</th>\n",
       "      <td>1.0</td>\n",
       "      <td>1.0</td>\n",
       "      <td>0.0</td>\n",
       "      <td>28.0</td>\n",
       "      <td>7.183562</td>\n",
       "      <td>2.0</td>\n",
       "      <td>1852.15</td>\n",
       "      <td>1.0</td>\n",
       "      <td>0.0</td>\n",
       "      <td>0.0</td>\n",
       "      <td>...</td>\n",
       "      <td>0.0</td>\n",
       "      <td>0.0</td>\n",
       "      <td>0.0</td>\n",
       "      <td>0.0</td>\n",
       "      <td>0.0</td>\n",
       "      <td>1.0</td>\n",
       "      <td>0.0</td>\n",
       "      <td>0.0</td>\n",
       "      <td>0.0</td>\n",
       "      <td>0.0</td>\n",
       "    </tr>\n",
       "    <tr>\n",
       "      <th>2</th>\n",
       "      <td>1.0</td>\n",
       "      <td>1.0</td>\n",
       "      <td>0.0</td>\n",
       "      <td>35.0</td>\n",
       "      <td>0.838356</td>\n",
       "      <td>2.0</td>\n",
       "      <td>2253.89</td>\n",
       "      <td>0.0</td>\n",
       "      <td>0.0</td>\n",
       "      <td>1.0</td>\n",
       "      <td>...</td>\n",
       "      <td>0.0</td>\n",
       "      <td>0.0</td>\n",
       "      <td>0.0</td>\n",
       "      <td>0.0</td>\n",
       "      <td>0.0</td>\n",
       "      <td>1.0</td>\n",
       "      <td>0.0</td>\n",
       "      <td>0.0</td>\n",
       "      <td>0.0</td>\n",
       "      <td>0.0</td>\n",
       "    </tr>\n",
       "    <tr>\n",
       "      <th>3</th>\n",
       "      <td>0.0</td>\n",
       "      <td>1.0</td>\n",
       "      <td>1.0</td>\n",
       "      <td>30.0</td>\n",
       "      <td>4.846575</td>\n",
       "      <td>3.0</td>\n",
       "      <td>6600.77</td>\n",
       "      <td>0.0</td>\n",
       "      <td>0.0</td>\n",
       "      <td>0.0</td>\n",
       "      <td>...</td>\n",
       "      <td>0.0</td>\n",
       "      <td>0.0</td>\n",
       "      <td>0.0</td>\n",
       "      <td>0.0</td>\n",
       "      <td>0.0</td>\n",
       "      <td>1.0</td>\n",
       "      <td>0.0</td>\n",
       "      <td>0.0</td>\n",
       "      <td>0.0</td>\n",
       "      <td>0.0</td>\n",
       "    </tr>\n",
       "    <tr>\n",
       "      <th>4</th>\n",
       "      <td>1.0</td>\n",
       "      <td>0.0</td>\n",
       "      <td>0.0</td>\n",
       "      <td>33.0</td>\n",
       "      <td>4.293151</td>\n",
       "      <td>1.0</td>\n",
       "      <td>6475.97</td>\n",
       "      <td>1.0</td>\n",
       "      <td>0.0</td>\n",
       "      <td>0.0</td>\n",
       "      <td>...</td>\n",
       "      <td>0.0</td>\n",
       "      <td>0.0</td>\n",
       "      <td>1.0</td>\n",
       "      <td>0.0</td>\n",
       "      <td>0.0</td>\n",
       "      <td>0.0</td>\n",
       "      <td>0.0</td>\n",
       "      <td>0.0</td>\n",
       "      <td>0.0</td>\n",
       "      <td>1.0</td>\n",
       "    </tr>\n",
       "  </tbody>\n",
       "</table>\n",
       "<p>5 rows × 25 columns</p>\n",
       "</div>"
      ],
      "text/plain": [
       "   posse_de_veiculo  posse_de_imovel  qtd_filhos  idade  tempo_emprego  \\\n",
       "0               0.0              1.0         0.0   26.0       6.602740   \n",
       "1               1.0              1.0         0.0   28.0       7.183562   \n",
       "2               1.0              1.0         0.0   35.0       0.838356   \n",
       "3               0.0              1.0         1.0   30.0       4.846575   \n",
       "4               1.0              0.0         0.0   33.0       4.293151   \n",
       "\n",
       "   qt_pessoas_residencia    renda  sexo_M  tipo_renda_Bolsista  \\\n",
       "0                    1.0  8060.34     0.0                  0.0   \n",
       "1                    2.0  1852.15     1.0                  0.0   \n",
       "2                    2.0  2253.89     0.0                  0.0   \n",
       "3                    3.0  6600.77     0.0                  0.0   \n",
       "4                    1.0  6475.97     1.0                  0.0   \n",
       "\n",
       "   tipo_renda_Empresário  ...  educacao_Superior incompleto  \\\n",
       "0                    1.0  ...                           0.0   \n",
       "1                    0.0  ...                           0.0   \n",
       "2                    1.0  ...                           0.0   \n",
       "3                    0.0  ...                           0.0   \n",
       "4                    0.0  ...                           0.0   \n",
       "\n",
       "   estado_civil_Separado  estado_civil_Solteiro  estado_civil_União  \\\n",
       "0                    0.0                    1.0                 0.0   \n",
       "1                    0.0                    0.0                 0.0   \n",
       "2                    0.0                    0.0                 0.0   \n",
       "3                    0.0                    0.0                 0.0   \n",
       "4                    0.0                    1.0                 0.0   \n",
       "\n",
       "   estado_civil_Viúvo  tipo_residencia_Casa  tipo_residencia_Com os pais  \\\n",
       "0                 0.0                   1.0                          0.0   \n",
       "1                 0.0                   1.0                          0.0   \n",
       "2                 0.0                   1.0                          0.0   \n",
       "3                 0.0                   1.0                          0.0   \n",
       "4                 0.0                   0.0                          0.0   \n",
       "\n",
       "   tipo_residencia_Comunitário  tipo_residencia_Estúdio  \\\n",
       "0                          0.0                      0.0   \n",
       "1                          0.0                      0.0   \n",
       "2                          0.0                      0.0   \n",
       "3                          0.0                      0.0   \n",
       "4                          0.0                      0.0   \n",
       "\n",
       "   tipo_residencia_Governamental  \n",
       "0                            0.0  \n",
       "1                            0.0  \n",
       "2                            0.0  \n",
       "3                            0.0  \n",
       "4                            1.0  \n",
       "\n",
       "[5 rows x 25 columns]"
      ]
     },
     "execution_count": 344,
     "metadata": {},
     "output_type": "execute_result"
    }
   ],
   "source": [
    "df.head()"
   ]
  },
  {
   "cell_type": "code",
   "execution_count": 401,
   "metadata": {},
   "outputs": [],
   "source": [
    "# 1)\n",
    "\n",
    "y = df.loc[:, 'renda']\n",
    "X = df.drop(columns=['renda'])\n",
    "X = sm.add_constant(X)\n",
    "X_train, X_test, y_train, y_test = train_test_split(X, y, random_state=100)\n",
    "train_concat = pd.concat([X_train, y_train], axis=1)"
   ]
  },
  {
   "cell_type": "code",
   "execution_count": 403,
   "metadata": {},
   "outputs": [
    {
     "name": "stdout",
     "output_type": "stream",
     "text": [
      "Coeficientes do Modelo Regularizado:\n",
      "[-5588.43143966   131.43688901   300.10318157 -1197.94420868\n",
      "    40.29456529   566.21897871  1188.16524179  6096.61432148\n",
      " -1449.13926036   735.65946184 -2181.97628093   -79.8440423\n",
      "  1595.38142747   995.91726409  1409.22093014   705.8989366\n",
      "  1099.31815755   694.4664652   -383.9908561   1013.2650445\n",
      "  -395.76036984  -428.04150888  -566.11600531   370.69356759\n",
      "  -259.59521485]\n",
      "\n",
      "Erro Quadrático Médio (MSE): 44222315.876911215\n",
      "R²: 0.29258755108598555\n"
     ]
    }
   ],
   "source": [
    "# 2)\n",
    "\n",
    "md = sm.OLS(y_train, X_train)\n",
    "reg = md.fit_regularized(\n",
    "    method='elastic_net',\n",
    "    refit=True,\n",
    "    L1_wt=0,\n",
    "    alpha=0\n",
    ")\n",
    "\n",
    "print(\"Coeficientes do Modelo Regularizado:\")\n",
    "print(reg.params)\n",
    "\n",
    "y_pred = reg.predict(X_test)\n",
    "mse = mean_squared_error(y_test, y_pred)\n",
    "r2 = r2_score(y_test, y_pred)\n",
    "\n",
    "print(\"\\nErro Quadrático Médio (MSE):\", mse)\n",
    "print(\"R²:\", r2)"
   ]
  },
  {
   "cell_type": "code",
   "execution_count": 350,
   "metadata": {},
   "outputs": [
    {
     "name": "stdout",
     "output_type": "stream",
     "text": [
      "Coeficientes do Modelo Regularizado:\n",
      "[-2.67972485e+03  1.37860696e+02  2.96334272e+02 -1.05488076e+02\n",
      "  3.89130561e+01  5.66069086e+02  8.85809517e+01  6.05347977e+03\n",
      " -4.32742678e+02  7.29451638e+02 -1.00813232e+03 -7.77356013e+01\n",
      "  7.31866870e+02  4.41647266e+02  8.43760209e+02  1.40226320e+02\n",
      " -3.45168497e+00 -4.04696388e+02 -3.90839017e+02 -1.04256234e+02\n",
      " -4.72114694e+02 -5.04093149e+02 -5.79272194e+02  2.67719839e+02\n",
      " -3.24955154e+02]\n",
      "\n",
      "Erro Quadrático Médio (MSE): 44222076.097645596\n",
      "R²: 0.2925913867701675\n"
     ]
    }
   ],
   "source": [
    "md = sm.OLS(y_train, X_train)\n",
    "reg = md.fit_regularized(\n",
    "    method='elastic_net',\n",
    "    refit=True,\n",
    "    L1_wt=0,\n",
    "    alpha=0.001\n",
    ")\n",
    "\n",
    "print(\"Coeficientes do Modelo Regularizado:\")\n",
    "print(reg.params)\n",
    "\n",
    "y_pred = reg.predict(X_test)\n",
    "mse = mean_squared_error(y_test, y_pred)\n",
    "r2 = r2_score(y_test, y_pred)\n",
    "\n",
    "print(\"\\nErro Quadrático Médio (MSE):\", mse)\n",
    "print(\"R²:\", r2)"
   ]
  },
  {
   "cell_type": "code",
   "execution_count": 352,
   "metadata": {},
   "outputs": [
    {
     "name": "stdout",
     "output_type": "stream",
     "text": [
      "Coeficientes do Modelo Regularizado:\n",
      "[-1.48480536e+03  1.68206435e+02  2.82505287e+02  1.78626536e+02\n",
      "  3.59172066e+01  5.65387539e+02 -2.05386556e+02  5.92374248e+03\n",
      " -1.13293661e+02  7.03965884e+02 -3.23213705e+02 -8.58028803e+01\n",
      "  1.90047035e+02 -2.93981719e+00  3.81765410e+02 -2.87028761e+02\n",
      " -2.79277710e+02 -6.81631737e+02 -3.82787876e+02 -3.60474042e+02\n",
      " -4.51065603e+02 -4.69383436e+02 -3.61561785e+02  2.03060611e+02\n",
      " -2.78770255e+02]\n",
      "\n",
      "Erro Quadrático Médio (MSE): 44228115.6504076\n",
      "R²: 0.2924947736750594\n"
     ]
    }
   ],
   "source": [
    "md = sm.OLS(y_train, X_train)\n",
    "reg = md.fit_regularized(\n",
    "    method='elastic_net',\n",
    "    refit=True,\n",
    "    L1_wt=0,\n",
    "    alpha=0.005\n",
    ")\n",
    "\n",
    "print(\"Coeficientes do Modelo Regularizado:\")\n",
    "print(reg.params)\n",
    "\n",
    "y_pred = reg.predict(X_test)\n",
    "mse = mean_squared_error(y_test, y_pred)\n",
    "r2 = r2_score(y_test, y_pred)\n",
    "\n",
    "print(\"\\nErro Quadrático Médio (MSE):\", mse)\n",
    "print(\"R²:\", r2)"
   ]
  },
  {
   "cell_type": "code",
   "execution_count": 354,
   "metadata": {},
   "outputs": [
    {
     "name": "stdout",
     "output_type": "stream",
     "text": [
      "Coeficientes do Modelo Regularizado:\n",
      "[-1168.51558724   203.69348556   267.50992162   186.76242271\n",
      "    33.09250813   564.45953786  -221.72374151  5774.64842943\n",
      "   -59.04993218   673.02195785  -176.68576366   -96.79987095\n",
      "    88.01845084  -126.0292619    243.36039396  -376.03728742\n",
      "  -279.3226347   -678.36781574  -369.68361268  -339.40089979\n",
      "  -425.5466662   -426.48882145  -239.71233258   165.32629763\n",
      "  -232.7595755 ]\n",
      "\n",
      "Erro Quadrático Médio (MSE): 44244303.37636895\n",
      "R²: 0.2922358229928621\n"
     ]
    }
   ],
   "source": [
    "md = sm.OLS(y_train, X_train)\n",
    "reg = md.fit_regularized(\n",
    "    method='elastic_net',\n",
    "    refit=True,\n",
    "    L1_wt=0,\n",
    "    alpha=0.01\n",
    ")\n",
    "\n",
    "print(\"Coeficientes do Modelo Regularizado:\")\n",
    "print(reg.params)\n",
    "\n",
    "y_pred = reg.predict(X_test)\n",
    "mse = mean_squared_error(y_test, y_pred)\n",
    "r2 = r2_score(y_test, y_pred)\n",
    "\n",
    "print(\"\\nErro Quadrático Médio (MSE):\", mse)\n",
    "print(\"R²:\", r2)"
   ]
  },
  {
   "cell_type": "code",
   "execution_count": 356,
   "metadata": {},
   "outputs": [
    {
     "name": "stdout",
     "output_type": "stream",
     "text": [
      "Coeficientes do Modelo Regularizado:\n",
      "[-543.96974327  400.74578124  190.75067866   59.05119298   21.64723129\n",
      "  557.53891309 -112.37040808 4838.32945746  -12.97027859  505.45072828\n",
      "  -40.17926308 -133.20805469   14.58148575 -182.21161994  105.78704414\n",
      " -276.37335511 -155.80329767 -468.22373222 -287.58606963 -185.65911948\n",
      " -307.64083897 -231.86811705  -60.20417202   88.02140777  -97.29114301]\n",
      "\n",
      "Erro Quadrático Médio (MSE): 44531722.587819524\n",
      "R²: 0.28763805545840926\n"
     ]
    }
   ],
   "source": [
    "md = sm.OLS(y_train, X_train)\n",
    "reg = md.fit_regularized(\n",
    "    method='elastic_net',\n",
    "    refit=True,\n",
    "    L1_wt=0,\n",
    "    alpha=0.05\n",
    ")\n",
    "\n",
    "print(\"Coeficientes do Modelo Regularizado:\")\n",
    "print(reg.params)\n",
    "\n",
    "y_pred = reg.predict(X_test)\n",
    "mse = mean_squared_error(y_test, y_pred)\n",
    "r2 = r2_score(y_test, y_pred)\n",
    "\n",
    "print(\"\\nErro Quadrático Médio (MSE):\", mse)\n",
    "print(\"R²:\", r2)"
   ]
  },
  {
   "cell_type": "code",
   "execution_count": 358,
   "metadata": {},
   "outputs": [
    {
     "name": "stdout",
     "output_type": "stream",
     "text": [
      "Coeficientes do Modelo Regularizado:\n",
      "[-304.94879564  514.73161222  142.90921775  -14.62068788   17.02970618\n",
      "  550.87125645  -21.83467093 4054.44579072   -7.09319284  394.59889379\n",
      "  -20.9137492  -132.27375699    6.69473628 -137.55045576   91.51599057\n",
      " -171.49969992 -103.19537802 -320.56064164 -224.85646392 -133.32544006\n",
      " -223.0110501  -127.41063041  -28.79819835   63.66066566  -53.69135256]\n",
      "\n",
      "Erro Quadrático Médio (MSE): 45007111.8089832\n",
      "R²: 0.2800333824225878\n"
     ]
    }
   ],
   "source": [
    "md = sm.OLS(y_train, X_train)\n",
    "reg = md.fit_regularized(\n",
    "    method='elastic_net',\n",
    "    refit=True,\n",
    "    L1_wt=0,\n",
    "    alpha=0.1\n",
    ")\n",
    "\n",
    "print(\"Coeficientes do Modelo Regularizado:\")\n",
    "print(reg.params)\n",
    "\n",
    "y_pred = reg.predict(X_test)\n",
    "mse = mean_squared_error(y_test, y_pred)\n",
    "r2 = r2_score(y_test, y_pred)\n",
    "\n",
    "print(\"\\nErro Quadrático Médio (MSE):\", mse)\n",
    "print(\"R²:\", r2)"
   ]
  },
  {
   "cell_type": "markdown",
   "metadata": {},
   "source": [
    "### Conclusão ex 2\n",
    "\n",
    "Podemos observar que quanto mais proximo de zero é o valor do alpha maior é o valor do R², Assim tornando o modelo mais explicativo."
   ]
  },
  {
   "cell_type": "code",
   "execution_count": 360,
   "metadata": {},
   "outputs": [
    {
     "name": "stdout",
     "output_type": "stream",
     "text": [
      "Coeficientes do Modelo Regularizado:\n",
      "[-5588.43143966   131.43688901   300.10318157 -1197.94420868\n",
      "    40.29456529   566.21897871  1188.16524179  6096.61432148\n",
      " -1449.13926036   735.65946184 -2181.97628093   -79.8440423\n",
      "  1595.38142747   995.91726409  1409.22093014   705.8989366\n",
      "  1099.31815755   694.4664652   -383.9908561   1013.2650445\n",
      "  -395.76036984  -428.04150888  -566.11600531   370.69356759\n",
      "  -259.59521485]\n",
      "\n",
      "Erro Quadrático Médio (MSE): 44222315.876911215\n",
      "R²: 0.29258755108598566\n"
     ]
    }
   ],
   "source": [
    "# 3)Faça o mesmo que no passo 2, com uma regressão LASSO. Qual método chega a um melhor resultado?\n",
    "\n",
    "md = sm.OLS(y_train, X_train)\n",
    "reg = md.fit_regularized(\n",
    "    method='elastic_net',\n",
    "    refit=True,\n",
    "    L1_wt=1,\n",
    "    alpha=0\n",
    ")\n",
    "\n",
    "print(\"Coeficientes do Modelo Regularizado:\")\n",
    "print(reg.params)\n",
    "\n",
    "y_pred = reg.predict(X_test)\n",
    "mse = mean_squared_error(y_test, y_pred)\n",
    "r2 = r2_score(y_test, y_pred)\n",
    "\n",
    "print(\"\\nErro Quadrático Médio (MSE):\", mse)\n",
    "print(\"R²:\", r2)"
   ]
  },
  {
   "cell_type": "code",
   "execution_count": 362,
   "metadata": {},
   "outputs": [
    {
     "name": "stdout",
     "output_type": "stream",
     "text": [
      "Coeficientes do Modelo Regularizado:\n",
      "[-5588.43143966   131.43688901   300.10318157 -1197.94420868\n",
      "    40.29456529   566.21897871  1188.16524179  6096.61432148\n",
      " -1449.13926036   735.65946184 -2181.97628093   -79.8440423\n",
      "  1595.38142747   995.91726409  1409.22093014   705.8989366\n",
      "  1099.31815755   694.4664652   -383.9908561   1013.2650445\n",
      "  -395.76036984  -428.04150888  -566.11600531   370.69356759\n",
      "  -259.59521485]\n",
      "\n",
      "Erro Quadrático Médio (MSE): 44222315.876911215\n",
      "R²: 0.29258755108598566\n"
     ]
    }
   ],
   "source": [
    "md = sm.OLS(y_train, X_train)\n",
    "reg = md.fit_regularized(\n",
    "    method='elastic_net',\n",
    "    refit=True,\n",
    "    L1_wt=1,\n",
    "    alpha=0.001\n",
    ")\n",
    "\n",
    "print(\"Coeficientes do Modelo Regularizado:\")\n",
    "print(reg.params)\n",
    "\n",
    "y_pred = reg.predict(X_test)\n",
    "mse = mean_squared_error(y_test, y_pred)\n",
    "r2 = r2_score(y_test, y_pred)\n",
    "\n",
    "print(\"\\nErro Quadrático Médio (MSE):\", mse)\n",
    "print(\"R²:\", r2)"
   ]
  },
  {
   "cell_type": "code",
   "execution_count": 365,
   "metadata": {},
   "outputs": [
    {
     "name": "stdout",
     "output_type": "stream",
     "text": [
      "Coeficientes do Modelo Regularizado:\n",
      "[-5588.43143966   131.43688901   300.10318157 -1197.94420868\n",
      "    40.29456529   566.21897871  1188.16524179  6096.61432148\n",
      " -1449.13926036   735.65946184 -2181.97628093   -79.8440423\n",
      "  1595.38142747   995.91726409  1409.22093014   705.8989366\n",
      "  1099.31815755   694.4664652   -383.9908561   1013.2650445\n",
      "  -395.76036984  -428.04150888  -566.11600531   370.69356759\n",
      "  -259.59521485]\n",
      "\n",
      "Erro Quadrático Médio (MSE): 44222315.876911215\n",
      "R²: 0.29258755108598566\n"
     ]
    }
   ],
   "source": [
    "md = sm.OLS(y_train, X_train)\n",
    "reg = md.fit_regularized(\n",
    "    method='elastic_net',\n",
    "    refit=True,\n",
    "    L1_wt=1,\n",
    "    alpha=0.005\n",
    ")\n",
    "\n",
    "print(\"Coeficientes do Modelo Regularizado:\")\n",
    "print(reg.params)\n",
    "\n",
    "y_pred = reg.predict(X_test)\n",
    "mse = mean_squared_error(y_test, y_pred)\n",
    "r2 = r2_score(y_test, y_pred)\n",
    "\n",
    "print(\"\\nErro Quadrático Médio (MSE):\", mse)\n",
    "print(\"R²:\", r2)"
   ]
  },
  {
   "cell_type": "code",
   "execution_count": 366,
   "metadata": {},
   "outputs": [
    {
     "name": "stdout",
     "output_type": "stream",
     "text": [
      "Coeficientes do Modelo Regularizado:\n",
      "[-5496.55541775   132.64833415   300.51607458 -1197.93260927\n",
      "    40.42170719   566.30685747  1188.77788967  6097.15747822\n",
      " -1450.13982469   736.80428042 -2180.0060823    -77.49085329\n",
      "  1596.17739442   996.20173108  1410.75273102   704.74376365\n",
      "  1100.09857313   693.46495813  -382.47490769  1012.34587471\n",
      "  -497.22999574  -528.30970719  -667.65197939     0.\n",
      "  -360.8920597 ]\n",
      "\n",
      "Erro Quadrático Médio (MSE): 44219178.141448416\n",
      "R²: 0.2926377445931272\n"
     ]
    }
   ],
   "source": [
    "md = sm.OLS(y_train, X_train)\n",
    "reg = md.fit_regularized(\n",
    "    method='elastic_net',\n",
    "    refit=True,\n",
    "    L1_wt=1,\n",
    "    alpha=0.01\n",
    ")\n",
    "\n",
    "print(\"Coeficientes do Modelo Regularizado:\")\n",
    "print(reg.params)\n",
    "\n",
    "y_pred = reg.predict(X_test)\n",
    "mse = mean_squared_error(y_test, y_pred)\n",
    "r2 = r2_score(y_test, y_pred)\n",
    "\n",
    "print(\"\\nErro Quadrático Médio (MSE):\", mse)\n",
    "print(\"R²:\", r2)"
   ]
  },
  {
   "cell_type": "code",
   "execution_count": 369,
   "metadata": {},
   "outputs": [
    {
     "name": "stdout",
     "output_type": "stream",
     "text": [
      "Coeficientes do Modelo Regularizado:\n",
      "[-5496.55541775   132.64833415   300.51607458 -1197.93260927\n",
      "    40.42170719   566.30685747  1188.77788967  6097.15747822\n",
      " -1450.13982469   736.80428042 -2180.0060823    -77.49085329\n",
      "  1596.17739442   996.20173108  1410.75273102   704.74376365\n",
      "  1100.09857313   693.46495813  -382.47490769  1012.34587471\n",
      "  -497.22999574  -528.30970719  -667.65197939     0.\n",
      "  -360.8920597 ]\n",
      "\n",
      "Erro Quadrático Médio (MSE): 44219178.141448416\n",
      "R²: 0.2926377445931272\n"
     ]
    }
   ],
   "source": [
    "md = sm.OLS(y_train, X_train)\n",
    "reg = md.fit_regularized(\n",
    "    method='elastic_net',\n",
    "    refit=True,\n",
    "    L1_wt=1,\n",
    "    alpha=0.05\n",
    ")\n",
    "\n",
    "print(\"Coeficientes do Modelo Regularizado:\")\n",
    "print(reg.params)\n",
    "\n",
    "y_pred = reg.predict(X_test)\n",
    "mse = mean_squared_error(y_test, y_pred)\n",
    "r2 = r2_score(y_test, y_pred)\n",
    "\n",
    "print(\"\\nErro Quadrático Médio (MSE):\", mse)\n",
    "print(\"R²:\", r2)"
   ]
  },
  {
   "cell_type": "code",
   "execution_count": 371,
   "metadata": {},
   "outputs": [
    {
     "name": "stdout",
     "output_type": "stream",
     "text": [
      "Coeficientes do Modelo Regularizado:\n",
      "[-5496.55541775   132.64833415   300.51607458 -1197.93260927\n",
      "    40.42170719   566.30685747  1188.77788967  6097.15747822\n",
      " -1450.13982469   736.80428042 -2180.0060823    -77.49085329\n",
      "  1596.17739442   996.20173108  1410.75273102   704.74376365\n",
      "  1100.09857313   693.46495813  -382.47490769  1012.34587471\n",
      "  -497.22999574  -528.30970719  -667.65197939     0.\n",
      "  -360.8920597 ]\n",
      "\n",
      "Erro Quadrático Médio (MSE): 44219178.141448416\n",
      "R²: 0.2926377445931272\n"
     ]
    }
   ],
   "source": [
    "md = sm.OLS(y_train, X_train)\n",
    "reg = md.fit_regularized(\n",
    "    method='elastic_net',\n",
    "    refit=True,\n",
    "    L1_wt=1,\n",
    "    alpha=0.1\n",
    ")\n",
    "\n",
    "print(\"Coeficientes do Modelo Regularizado:\")\n",
    "print(reg.params)\n",
    "\n",
    "y_pred = reg.predict(X_test)\n",
    "mse = mean_squared_error(y_test, y_pred)\n",
    "r2 = r2_score(y_test, y_pred)\n",
    "\n",
    "print(\"\\nErro Quadrático Médio (MSE):\", mse)\n",
    "print(\"R²:\", r2)"
   ]
  },
  {
   "cell_type": "markdown",
   "metadata": {},
   "source": [
    "### Conclusão ex 3\n",
    "\n",
    "Diferente do que vimos no exercicio 2, nesse exercicio concluimos que quanto maior o alpha maior é o R² por mais que o aumento seja quase imperceptivel."
   ]
  },
  {
   "cell_type": "code",
   "execution_count": 380,
   "metadata": {},
   "outputs": [
    {
     "name": "stdout",
     "output_type": "stream",
     "text": [
      "Coeficientes do Modelo Regularizado:\n",
      "[-5588.43143966   131.43688901   300.10318157 -1197.94420868\n",
      "    40.29456529   566.21897871  1188.16524179  6096.61432148\n",
      " -1449.13926036   735.65946184 -2181.97628093   -79.8440423\n",
      "  1595.38142747   995.91726409  1409.22093014   705.8989366\n",
      "  1099.31815755   694.4664652   -383.9908561   1013.2650445\n",
      "  -395.76036984  -428.04150888  -566.11600531   370.69356759\n",
      "  -259.59521485]\n",
      "\n",
      "Erro Quadrático Médio (MSE): 44222315.876911215\n",
      "R²: 0.29258755108598566\n"
     ]
    }
   ],
   "source": [
    "# 4)Rode um modelo stepwise. Avalie o R² na fase de testes. Qual o melhor resultado?\n",
    "\n",
    "md = sm.OLS(y_train, X_train)\n",
    "reg = md.fit_regularized(\n",
    "    method='elastic_net',\n",
    "    refit=True,\n",
    "    L1_wt=.5,\n",
    "    alpha=0.001\n",
    ")\n",
    "\n",
    "print(\"Coeficientes do Modelo Regularizado:\")\n",
    "print(reg.params)\n",
    "\n",
    "y_pred = reg.predict(X_test)\n",
    "mse = mean_squared_error(y_test, y_pred)\n",
    "r2 = r2_score(y_test, y_pred)\n",
    "\n",
    "print(\"\\nErro Quadrático Médio (MSE):\", mse)\n",
    "print(\"R²:\", r2)"
   ]
  },
  {
   "cell_type": "code",
   "execution_count": 384,
   "metadata": {},
   "outputs": [
    {
     "name": "stdout",
     "output_type": "stream",
     "text": [
      "Coeficientes do Modelo Regularizado:\n",
      "[-5588.43143966   131.43688901   300.10318157 -1197.94420868\n",
      "    40.29456529   566.21897871  1188.16524179  6096.61432148\n",
      " -1449.13926036   735.65946184 -2181.97628093   -79.8440423\n",
      "  1595.38142747   995.91726409  1409.22093014   705.8989366\n",
      "  1099.31815755   694.4664652   -383.9908561   1013.2650445\n",
      "  -395.76036984  -428.04150888  -566.11600531   370.69356759\n",
      "  -259.59521485]\n",
      "\n",
      "Erro Quadrático Médio (MSE): 44222315.876911215\n",
      "R²: 0.29258755108598566\n"
     ]
    }
   ],
   "source": [
    "md = sm.OLS(y_train, X_train)\n",
    "reg = md.fit_regularized(\n",
    "    method='elastic_net',\n",
    "    refit=True,\n",
    "    L1_wt=.5,\n",
    "    alpha=0.005\n",
    ")\n",
    "\n",
    "print(\"Coeficientes do Modelo Regularizado:\")\n",
    "print(reg.params)\n",
    "\n",
    "y_pred = reg.predict(X_test)\n",
    "mse = mean_squared_error(y_test, y_pred)\n",
    "r2 = r2_score(y_test, y_pred)\n",
    "\n",
    "print(\"\\nErro Quadrático Médio (MSE):\", mse)\n",
    "print(\"R²:\", r2)"
   ]
  },
  {
   "cell_type": "code",
   "execution_count": 386,
   "metadata": {},
   "outputs": [
    {
     "name": "stdout",
     "output_type": "stream",
     "text": [
      "Coeficientes do Modelo Regularizado:\n",
      "[-5588.43143966   131.43688901   300.10318157 -1197.94420868\n",
      "    40.29456529   566.21897871  1188.16524179  6096.61432148\n",
      " -1449.13926036   735.65946184 -2181.97628093   -79.8440423\n",
      "  1595.38142747   995.91726409  1409.22093014   705.8989366\n",
      "  1099.31815755   694.4664652   -383.9908561   1013.2650445\n",
      "  -395.76036984  -428.04150888  -566.11600531   370.69356759\n",
      "  -259.59521485]\n",
      "\n",
      "Erro Quadrático Médio (MSE): 44222315.876911215\n",
      "R²: 0.29258755108598566\n"
     ]
    }
   ],
   "source": [
    "md = sm.OLS(y_train, X_train)\n",
    "reg = md.fit_regularized(\n",
    "    method='elastic_net',\n",
    "    refit=True,\n",
    "    L1_wt=.5,\n",
    "    alpha=0.01\n",
    ")\n",
    "\n",
    "print(\"Coeficientes do Modelo Regularizado:\")\n",
    "print(reg.params)\n",
    "\n",
    "y_pred = reg.predict(X_test)\n",
    "mse = mean_squared_error(y_test, y_pred)\n",
    "r2 = r2_score(y_test, y_pred)\n",
    "\n",
    "print(\"\\nErro Quadrático Médio (MSE):\", mse)\n",
    "print(\"R²:\", r2)"
   ]
  },
  {
   "cell_type": "code",
   "execution_count": 388,
   "metadata": {},
   "outputs": [
    {
     "name": "stdout",
     "output_type": "stream",
     "text": [
      "Coeficientes do Modelo Regularizado:\n",
      "[-5166.02092361   136.5076196    303.89840065 -1195.28834306\n",
      "    40.66131016   566.0616004   1188.2236457   6093.23069606\n",
      " -1450.90328914   741.0355923  -2182.28142441   -76.98537746\n",
      "     0.           652.58740466  1066.65630551   362.02961355\n",
      "  1096.23865325   699.22585036  -386.53819415   998.67281643\n",
      "  -494.7749466   -529.91500359  -703.0461575      0.\n",
      "  -364.62741158]\n",
      "\n",
      "Erro Quadrático Médio (MSE): 44211074.17527468\n",
      "R²: 0.2927673815522778\n"
     ]
    }
   ],
   "source": [
    "md = sm.OLS(y_train, X_train)\n",
    "reg = md.fit_regularized(\n",
    "    method='elastic_net',\n",
    "    refit=True,\n",
    "    L1_wt=.5,\n",
    "    alpha=0.05\n",
    ")\n",
    "\n",
    "print(\"Coeficientes do Modelo Regularizado:\")\n",
    "print(reg.params)\n",
    "\n",
    "y_pred = reg.predict(X_test)\n",
    "mse = mean_squared_error(y_test, y_pred)\n",
    "r2 = r2_score(y_test, y_pred)\n",
    "\n",
    "print(\"\\nErro Quadrático Médio (MSE):\", mse)\n",
    "print(\"R²:\", r2)"
   ]
  },
  {
   "cell_type": "code",
   "execution_count": 390,
   "metadata": {},
   "outputs": [
    {
     "name": "stdout",
     "output_type": "stream",
     "text": [
      "Coeficientes do Modelo Regularizado:\n",
      "[-5258.45846433   135.28902039   303.48203416 -1195.30131677\n",
      "    40.53350028   565.97346571  1187.60863491  6092.68716495\n",
      " -1449.89803008   739.88372049 -2184.25897494   -79.34896174\n",
      "     0.           652.47380055  1065.29023302   363.36140332\n",
      "  1095.45680725   700.22878869  -388.05864124   999.60279553\n",
      "  -392.86922181  -429.21385098  -601.05484293   372.29123619\n",
      "  -262.89211225]\n",
      "\n",
      "Erro Quadrático Médio (MSE): 44214205.8480692\n",
      "R²: 0.2927172850280041\n"
     ]
    }
   ],
   "source": [
    "md = sm.OLS(y_train, X_train)\n",
    "reg = md.fit_regularized(\n",
    "    method='elastic_net',\n",
    "    refit=True,\n",
    "    L1_wt=.5,\n",
    "    alpha=0.1\n",
    ")\n",
    "\n",
    "print(\"Coeficientes do Modelo Regularizado:\")\n",
    "print(reg.params)\n",
    "\n",
    "y_pred = reg.predict(X_test)\n",
    "mse = mean_squared_error(y_test, y_pred)\n",
    "r2 = r2_score(y_test, y_pred)\n",
    "\n",
    "print(\"\\nErro Quadrático Médio (MSE):\", mse)\n",
    "print(\"R²:\", r2)"
   ]
  },
  {
   "cell_type": "markdown",
   "metadata": {},
   "source": [
    "### Ex 5\n",
    "\n",
    "Com base nos meus estudos, cheguei a conclusão de que usando o stepwise, conseguimos modelos de melhor qualidade.  \n",
    "Se encaichando no melhor formato para encontrar o melhor modelo. "
   ]
  },
  {
   "cell_type": "code",
   "execution_count": 407,
   "metadata": {},
   "outputs": [],
   "source": [
    "# 6)\n",
    "\n",
    "y = df.loc[:, 'renda']\n",
    "X = df.drop(columns=['renda'])\n",
    "X = sm.add_constant(X)\n",
    "X_train, X_test, y_train, y_test = train_test_split(X, np.log(y), random_state=100)\n",
    "train_concat = pd.concat([X_train, y_train], axis=1)"
   ]
  },
  {
   "cell_type": "code",
   "execution_count": 417,
   "metadata": {},
   "outputs": [
    {
     "name": "stdout",
     "output_type": "stream",
     "text": [
      "Coeficientes do Modelo Regularizado:\n",
      "[ 4.41636484e+00  4.12732718e-02  8.25047640e-02 -1.02340239e+00\n",
      "  7.72241942e-03  6.14192597e-02  1.05333835e+00  7.99324180e-01\n",
      "  4.47804520e-02  1.60452242e-01 -1.28361092e-01  5.09653518e-02\n",
      "  3.71412257e-01  3.33813212e-01  4.36384907e-01  3.64343497e-01\n",
      "  1.08190763e+00  1.01785686e+00 -3.28429404e-03  1.08737696e+00\n",
      "  1.53256754e-01  1.90689755e-01  1.39076241e-01  2.19146499e-01\n",
      "  1.24526908e-01]\n",
      "\n",
      "Erro Quadrático Médio (MSE): 0.5143281931801805\n",
      "R²: 0.3652273696196071\n"
     ]
    }
   ],
   "source": [
    "md = sm.OLS(y_train, X_train)\n",
    "reg = md.fit_regularized(\n",
    "    method='elastic_net',\n",
    "    refit=True,\n",
    "    L1_wt=0,\n",
    "    alpha=0.001\n",
    ")\n",
    "\n",
    "print(\"Coeficientes do Modelo Regularizado:\")\n",
    "print(reg.params)\n",
    "\n",
    "y_pred = reg.predict(X_test)\n",
    "mse = mean_squared_error(y_test, y_pred)\n",
    "r2 = r2_score(y_test, y_pred)\n",
    "\n",
    "print(\"\\nErro Quadrático Médio (MSE):\", mse)\n",
    "print(\"R²:\", r2)"
   ]
  },
  {
   "cell_type": "code",
   "execution_count": 421,
   "metadata": {},
   "outputs": [
    {
     "name": "stdout",
     "output_type": "stream",
     "text": [
      "Coeficientes do Modelo Regularizado:\n",
      "[ 6.65334110e+00  3.31673207e-02  7.54119425e-02 -2.58806753e-01\n",
      "  5.23075406e-03  6.16839294e-02  2.75926325e-01  7.88071087e-01\n",
      "  1.64801796e-01  1.50948683e-01 -2.91152246e-01  4.76156194e-02\n",
      "  2.17469218e-01  8.53794604e-03  1.08092209e-01  2.93884587e-02\n",
      "  3.25903857e-01  2.40786089e-01 -1.44829316e-02  3.54615950e-01\n",
      " -8.49487796e-02 -6.09209463e-02 -1.04288999e-01  3.89720047e-02\n",
      " -1.07790082e-01]\n",
      "\n",
      "Erro Quadrático Médio (MSE): 0.5137703871224115\n",
      "R²: 0.3659158016815224\n"
     ]
    }
   ],
   "source": [
    "md = sm.OLS(y_train, X_train)\n",
    "reg = md.fit_regularized(\n",
    "    method='elastic_net',\n",
    "    refit=True,\n",
    "    L1_wt=1,\n",
    "    alpha=0\n",
    ")\n",
    "\n",
    "print(\"Coeficientes do Modelo Regularizado:\")\n",
    "print(reg.params)\n",
    "\n",
    "y_pred = reg.predict(X_test)\n",
    "mse = mean_squared_error(y_test, y_pred)\n",
    "r2 = r2_score(y_test, y_pred)\n",
    "\n",
    "print(\"\\nErro Quadrático Médio (MSE):\", mse)\n",
    "print(\"R²:\", r2)"
   ]
  },
  {
   "cell_type": "code",
   "execution_count": 423,
   "metadata": {},
   "outputs": [
    {
     "name": "stdout",
     "output_type": "stream",
     "text": [
      "Coeficientes do Modelo Regularizado:\n",
      "[ 6.65334110e+00  3.31673207e-02  7.54119425e-02 -2.58806753e-01\n",
      "  5.23075406e-03  6.16839294e-02  2.75926325e-01  7.88071087e-01\n",
      "  1.64801796e-01  1.50948683e-01 -2.91152246e-01  4.76156194e-02\n",
      "  2.17469218e-01  8.53794604e-03  1.08092209e-01  2.93884587e-02\n",
      "  3.25903857e-01  2.40786089e-01 -1.44829316e-02  3.54615950e-01\n",
      " -8.49487796e-02 -6.09209463e-02 -1.04288999e-01  3.89720047e-02\n",
      " -1.07790082e-01]\n",
      "\n",
      "Erro Quadrático Médio (MSE): 0.5137703871224115\n",
      "R²: 0.3659158016815224\n"
     ]
    }
   ],
   "source": [
    "md = sm.OLS(y_train, X_train)\n",
    "reg = md.fit_regularized(\n",
    "    method='elastic_net',\n",
    "    refit=True,\n",
    "    L1_wt=0.5,\n",
    "    alpha=0\n",
    ")\n",
    "\n",
    "print(\"Coeficientes do Modelo Regularizado:\")\n",
    "print(reg.params)\n",
    "\n",
    "y_pred = reg.predict(X_test)\n",
    "mse = mean_squared_error(y_test, y_pred)\n",
    "r2 = r2_score(y_test, y_pred)\n",
    "\n",
    "print(\"\\nErro Quadrático Médio (MSE):\", mse)\n",
    "print(\"R²:\", r2)"
   ]
  },
  {
   "cell_type": "code",
   "execution_count": 427,
   "metadata": {},
   "outputs": [
    {
     "name": "stdout",
     "output_type": "stream",
     "text": [
      "MSE: 0.5096125992401578\n",
      "R²: 0.36972784503895073\n"
     ]
    }
   ],
   "source": [
    "# 7)\n",
    "\n",
    "clf = DecisionTreeRegressor(max_depth=4)\n",
    "\n",
    "clf.fit(X_train, y_train)\n",
    "\n",
    "predict = clf.predict(X_train)\n",
    "R2 = clf.score(X_train, y_train)\n",
    "mse = mean_squared_error(y_train, predict)\n",
    "print(f'MSE: {mse}')\n",
    "print(f'R²: {R2}')"
   ]
  }
 ],
 "metadata": {
  "kernelspec": {
   "display_name": "Python 3 (ipykernel)",
   "language": "python",
   "name": "python3"
  },
  "language_info": {
   "codemirror_mode": {
    "name": "ipython",
    "version": 3
   },
   "file_extension": ".py",
   "mimetype": "text/x-python",
   "name": "python",
   "nbconvert_exporter": "python",
   "pygments_lexer": "ipython3",
   "version": "3.12.4"
  }
 },
 "nbformat": 4,
 "nbformat_minor": 4
}
