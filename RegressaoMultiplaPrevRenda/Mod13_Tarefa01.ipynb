{
 "cells": [
  {
   "cell_type": "markdown",
   "metadata": {},
   "source": [
    "# EBAC - Regressão II - regressão múltipla\n",
    "\n",
    "## Tarefa I"
   ]
  },
  {
   "cell_type": "markdown",
   "metadata": {},
   "source": [
    "#### Previsão de renda\n",
    "\n",
    "Vamos trabalhar com a base 'previsao_de_renda.csv', que é a base do seu próximo projeto. Vamos usar os recursos que vimos até aqui nesta base.\n",
    "\n",
    "|variavel|descrição|\n",
    "|-|-|\n",
    "|data_ref                | Data de referência de coleta das variáveis |\n",
    "|index                   | Código de identificação do cliente|\n",
    "|sexo                    | Sexo do cliente|\n",
    "|posse_de_veiculo        | Indica se o cliente possui veículo|\n",
    "|posse_de_imovel         | Indica se o cliente possui imóvel|\n",
    "|qtd_filhos              | Quantidade de filhos do cliente|\n",
    "|tipo_renda              | Tipo de renda do cliente|\n",
    "|educacao                | Grau de instrução do cliente|\n",
    "|estado_civil            | Estado civil do cliente|\n",
    "|tipo_residencia         | Tipo de residência do cliente (própria, alugada etc)|\n",
    "|idade                   | Idade do cliente|\n",
    "|tempo_emprego           | Tempo no emprego atual|\n",
    "|qt_pessoas_residencia   | Quantidade de pessoas que moram na residência|\n",
    "|renda                   | Renda em reais|"
   ]
  },
  {
   "cell_type": "code",
   "execution_count": 17,
   "metadata": {},
   "outputs": [],
   "source": [
    "import pandas as pd\n",
    "import numpy as np\n",
    "import statsmodels.formula.api as smf\n",
    "import statsmodels.api as sm\n",
    "import patsy"
   ]
  },
  {
   "cell_type": "code",
   "execution_count": 7,
   "metadata": {},
   "outputs": [],
   "source": [
    "df = pd.read_csv('previsao_de_renda.csv')"
   ]
  },
  {
   "cell_type": "code",
   "execution_count": 9,
   "metadata": {},
   "outputs": [
    {
     "name": "stdout",
     "output_type": "stream",
     "text": [
      "<class 'pandas.core.frame.DataFrame'>\n",
      "RangeIndex: 15000 entries, 0 to 14999\n",
      "Data columns (total 15 columns):\n",
      " #   Column                 Non-Null Count  Dtype  \n",
      "---  ------                 --------------  -----  \n",
      " 0   Unnamed: 0             15000 non-null  int64  \n",
      " 1   data_ref               15000 non-null  object \n",
      " 2   id_cliente             15000 non-null  int64  \n",
      " 3   sexo                   15000 non-null  object \n",
      " 4   posse_de_veiculo       15000 non-null  bool   \n",
      " 5   posse_de_imovel        15000 non-null  bool   \n",
      " 6   qtd_filhos             15000 non-null  int64  \n",
      " 7   tipo_renda             15000 non-null  object \n",
      " 8   educacao               15000 non-null  object \n",
      " 9   estado_civil           15000 non-null  object \n",
      " 10  tipo_residencia        15000 non-null  object \n",
      " 11  idade                  15000 non-null  int64  \n",
      " 12  tempo_emprego          12427 non-null  float64\n",
      " 13  qt_pessoas_residencia  15000 non-null  float64\n",
      " 14  renda                  15000 non-null  float64\n",
      "dtypes: bool(2), float64(3), int64(4), object(6)\n",
      "memory usage: 1.5+ MB\n"
     ]
    }
   ],
   "source": [
    "df.info()"
   ]
  },
  {
   "cell_type": "code",
   "execution_count": 25,
   "metadata": {},
   "outputs": [
    {
     "data": {
      "text/plain": [
       "sexo\n",
       "F    10119\n",
       "M     4881\n",
       "Name: count, dtype: int64"
      ]
     },
     "execution_count": 25,
     "metadata": {},
     "output_type": "execute_result"
    }
   ],
   "source": [
    "df['sexo'].value_counts()"
   ]
  },
  {
   "cell_type": "code",
   "execution_count": 27,
   "metadata": {},
   "outputs": [
    {
     "data": {
      "text/plain": [
       "tipo_renda\n",
       "Assalariado         7633\n",
       "Empresário          3508\n",
       "Pensionista         2582\n",
       "Servidor público    1268\n",
       "Bolsista               9\n",
       "Name: count, dtype: int64"
      ]
     },
     "execution_count": 27,
     "metadata": {},
     "output_type": "execute_result"
    }
   ],
   "source": [
    "df['tipo_renda'].value_counts()"
   ]
  },
  {
   "cell_type": "code",
   "execution_count": 29,
   "metadata": {},
   "outputs": [
    {
     "data": {
      "text/plain": [
       "educacao\n",
       "Secundário             8895\n",
       "Superior completo      5335\n",
       "Superior incompleto     579\n",
       "Primário                165\n",
       "Pós graduação            26\n",
       "Name: count, dtype: int64"
      ]
     },
     "execution_count": 29,
     "metadata": {},
     "output_type": "execute_result"
    }
   ],
   "source": [
    "df['educacao'].value_counts()"
   ]
  },
  {
   "cell_type": "code",
   "execution_count": 31,
   "metadata": {},
   "outputs": [
    {
     "data": {
      "text/plain": [
       "estado_civil\n",
       "Casado      10534\n",
       "Solteiro     1798\n",
       "União        1078\n",
       "Separado      879\n",
       "Viúvo         711\n",
       "Name: count, dtype: int64"
      ]
     },
     "execution_count": 31,
     "metadata": {},
     "output_type": "execute_result"
    }
   ],
   "source": [
    "df['estado_civil'].value_counts()"
   ]
  },
  {
   "cell_type": "code",
   "execution_count": 33,
   "metadata": {},
   "outputs": [
    {
     "data": {
      "text/plain": [
       "tipo_residencia\n",
       "Casa             13532\n",
       "Com os pais        675\n",
       "Governamental      452\n",
       "Aluguel            194\n",
       "Estúdio             83\n",
       "Comunitário         64\n",
       "Name: count, dtype: int64"
      ]
     },
     "execution_count": 33,
     "metadata": {},
     "output_type": "execute_result"
    }
   ],
   "source": [
    "df['tipo_residencia'].value_counts()"
   ]
  },
  {
   "cell_type": "markdown",
   "metadata": {},
   "source": [
    "1. Ajuste um modelo para prever log(renda) considerando todas as covariáveis disponíveis.\n",
    "    - Utilizando os recursos do Patsy, coloque as variáveis qualitativas como *dummies*.\n",
    "    - Mantenha sempre a categoria mais frequente como casela de referência\n",
    "    - Avalie os parâmetros e veja se parecem fazer sentido prático.  \n",
    "\n",
    "\n",
    "2. Remova a variável menos significante e analise:\n",
    "    - Observe os indicadores que vimos, e avalie se o modelo melhorou ou piorou na sua opinião.\n",
    "    - Observe os parâmetros e veja se algum se alterou muito.  \n",
    "\n",
    "\n",
    "3. Siga removendo as variáveis menos significantes, sempre que o *p-value* for menor que 5%. Compare o modelo final com o inicial. Observe os indicadores e conclua se o modelo parece melhor. \n",
    "    "
   ]
  },
  {
   "cell_type": "code",
   "execution_count": 35,
   "metadata": {},
   "outputs": [
    {
     "name": "stderr",
     "output_type": "stream",
     "text": [
      "C:\\Users\\enzob\\anaconda3\\Lib\\site-packages\\statsmodels\\base\\model.py:130: ValueWarning: unknown kwargs ['data']\n",
      "  warnings.warn(msg, ValueWarning)\n"
     ]
    },
    {
     "data": {
      "text/html": [
       "<table class=\"simpletable\">\n",
       "<caption>OLS Regression Results</caption>\n",
       "<tr>\n",
       "  <th>Dep. Variable:</th>      <td>np.log(renda)</td>  <th>  R-squared:         </th> <td>   0.357</td> \n",
       "</tr>\n",
       "<tr>\n",
       "  <th>Model:</th>                   <td>OLS</td>       <th>  Adj. R-squared:    </th> <td>   0.356</td> \n",
       "</tr>\n",
       "<tr>\n",
       "  <th>Method:</th>             <td>Least Squares</td>  <th>  F-statistic:       </th> <td>   287.5</td> \n",
       "</tr>\n",
       "<tr>\n",
       "  <th>Date:</th>             <td>Mon, 02 Sep 2024</td> <th>  Prob (F-statistic):</th>  <td>  0.00</td>  \n",
       "</tr>\n",
       "<tr>\n",
       "  <th>Time:</th>                 <td>08:23:50</td>     <th>  Log-Likelihood:    </th> <td> -13568.</td> \n",
       "</tr>\n",
       "<tr>\n",
       "  <th>No. Observations:</th>      <td> 12427</td>      <th>  AIC:               </th> <td>2.719e+04</td>\n",
       "</tr>\n",
       "<tr>\n",
       "  <th>Df Residuals:</th>          <td> 12402</td>      <th>  BIC:               </th> <td>2.737e+04</td>\n",
       "</tr>\n",
       "<tr>\n",
       "  <th>Df Model:</th>              <td>    24</td>      <th>                     </th>     <td> </td>    \n",
       "</tr>\n",
       "<tr>\n",
       "  <th>Covariance Type:</th>      <td>nonrobust</td>    <th>                     </th>     <td> </td>    \n",
       "</tr>\n",
       "</table>\n",
       "<table class=\"simpletable\">\n",
       "<tr>\n",
       "                   <td></td>                      <th>coef</th>     <th>std err</th>      <th>t</th>      <th>P>|t|</th>  <th>[0.025</th>    <th>0.975]</th>  \n",
       "</tr>\n",
       "<tr>\n",
       "  <th>Intercept</th>                           <td>    6.5847</td> <td>    0.235</td> <td>   28.006</td> <td> 0.000</td> <td>    6.124</td> <td>    7.046</td>\n",
       "</tr>\n",
       "<tr>\n",
       "  <th>C(sexo)[T.M]</th>                        <td>    0.7874</td> <td>    0.015</td> <td>   53.723</td> <td> 0.000</td> <td>    0.759</td> <td>    0.816</td>\n",
       "</tr>\n",
       "<tr>\n",
       "  <th>posse_de_veiculo[T.True]</th>            <td>    0.0441</td> <td>    0.014</td> <td>    3.119</td> <td> 0.002</td> <td>    0.016</td> <td>    0.072</td>\n",
       "</tr>\n",
       "<tr>\n",
       "  <th>posse_de_imovel[T.True]</th>             <td>    0.0829</td> <td>    0.014</td> <td>    5.926</td> <td> 0.000</td> <td>    0.055</td> <td>    0.110</td>\n",
       "</tr>\n",
       "<tr>\n",
       "  <th>C(tipo_renda)[T.Bolsista]</th>           <td>    0.2209</td> <td>    0.241</td> <td>    0.916</td> <td> 0.360</td> <td>   -0.252</td> <td>    0.694</td>\n",
       "</tr>\n",
       "<tr>\n",
       "  <th>C(tipo_renda)[T.Empresário]</th>         <td>    0.1551</td> <td>    0.015</td> <td>   10.387</td> <td> 0.000</td> <td>    0.126</td> <td>    0.184</td>\n",
       "</tr>\n",
       "<tr>\n",
       "  <th>C(tipo_renda)[T.Pensionista]</th>        <td>   -0.3087</td> <td>    0.241</td> <td>   -1.280</td> <td> 0.201</td> <td>   -0.782</td> <td>    0.164</td>\n",
       "</tr>\n",
       "<tr>\n",
       "  <th>C(tipo_renda)[T.Servidor público]</th>   <td>    0.0576</td> <td>    0.022</td> <td>    2.591</td> <td> 0.010</td> <td>    0.014</td> <td>    0.101</td>\n",
       "</tr>\n",
       "<tr>\n",
       "  <th>C(educacao)[T.Pós graduação]</th>        <td>    0.1071</td> <td>    0.159</td> <td>    0.673</td> <td> 0.501</td> <td>   -0.205</td> <td>    0.419</td>\n",
       "</tr>\n",
       "<tr>\n",
       "  <th>C(educacao)[T.Secundário]</th>           <td>   -0.0141</td> <td>    0.072</td> <td>   -0.196</td> <td> 0.844</td> <td>   -0.155</td> <td>    0.127</td>\n",
       "</tr>\n",
       "<tr>\n",
       "  <th>C(educacao)[T.Superior completo]</th>    <td>    0.0938</td> <td>    0.072</td> <td>    1.298</td> <td> 0.194</td> <td>   -0.048</td> <td>    0.235</td>\n",
       "</tr>\n",
       "<tr>\n",
       "  <th>C(educacao)[T.Superior incompleto]</th>  <td>   -0.0432</td> <td>    0.078</td> <td>   -0.555</td> <td> 0.579</td> <td>   -0.196</td> <td>    0.109</td>\n",
       "</tr>\n",
       "<tr>\n",
       "  <th>C(estado_civil)[T.Separado]</th>         <td>    0.3265</td> <td>    0.111</td> <td>    2.935</td> <td> 0.003</td> <td>    0.108</td> <td>    0.545</td>\n",
       "</tr>\n",
       "<tr>\n",
       "  <th>C(estado_civil)[T.Solteiro]</th>         <td>    0.2672</td> <td>    0.109</td> <td>    2.453</td> <td> 0.014</td> <td>    0.054</td> <td>    0.481</td>\n",
       "</tr>\n",
       "<tr>\n",
       "  <th>C(estado_civil)[T.União]</th>            <td>   -0.0343</td> <td>    0.025</td> <td>   -1.361</td> <td> 0.174</td> <td>   -0.084</td> <td>    0.015</td>\n",
       "</tr>\n",
       "<tr>\n",
       "  <th>C(estado_civil)[T.Viúvo]</th>            <td>    0.3689</td> <td>    0.116</td> <td>    3.191</td> <td> 0.001</td> <td>    0.142</td> <td>    0.596</td>\n",
       "</tr>\n",
       "<tr>\n",
       "  <th>C(tipo_residencia)[T.Casa]</th>          <td>   -0.0442</td> <td>    0.054</td> <td>   -0.815</td> <td> 0.415</td> <td>   -0.150</td> <td>    0.062</td>\n",
       "</tr>\n",
       "<tr>\n",
       "  <th>C(tipo_residencia)[T.Com os pais]</th>   <td>   -0.0258</td> <td>    0.060</td> <td>   -0.427</td> <td> 0.670</td> <td>   -0.144</td> <td>    0.093</td>\n",
       "</tr>\n",
       "<tr>\n",
       "  <th>C(tipo_residencia)[T.Comunitário]</th>   <td>   -0.1196</td> <td>    0.105</td> <td>   -1.135</td> <td> 0.256</td> <td>   -0.326</td> <td>    0.087</td>\n",
       "</tr>\n",
       "<tr>\n",
       "  <th>C(tipo_residencia)[T.Estúdio]</th>       <td>    0.0665</td> <td>    0.099</td> <td>    0.670</td> <td> 0.503</td> <td>   -0.128</td> <td>    0.261</td>\n",
       "</tr>\n",
       "<tr>\n",
       "  <th>C(tipo_residencia)[T.Governamental]</th> <td>   -0.0571</td> <td>    0.066</td> <td>   -0.865</td> <td> 0.387</td> <td>   -0.186</td> <td>    0.072</td>\n",
       "</tr>\n",
       "<tr>\n",
       "  <th>qtd_filhos</th>                          <td>   -0.2658</td> <td>    0.108</td> <td>   -2.463</td> <td> 0.014</td> <td>   -0.477</td> <td>   -0.054</td>\n",
       "</tr>\n",
       "<tr>\n",
       "  <th>idade</th>                               <td>    0.0053</td> <td>    0.001</td> <td>    6.624</td> <td> 0.000</td> <td>    0.004</td> <td>    0.007</td>\n",
       "</tr>\n",
       "<tr>\n",
       "  <th>tempo_emprego</th>                       <td>    0.0617</td> <td>    0.001</td> <td>   59.398</td> <td> 0.000</td> <td>    0.060</td> <td>    0.064</td>\n",
       "</tr>\n",
       "<tr>\n",
       "  <th>qt_pessoas_residencia</th>               <td>    0.2926</td> <td>    0.108</td> <td>    2.716</td> <td> 0.007</td> <td>    0.081</td> <td>    0.504</td>\n",
       "</tr>\n",
       "</table>\n",
       "<table class=\"simpletable\">\n",
       "<tr>\n",
       "  <th>Omnibus:</th>       <td> 0.858</td> <th>  Durbin-Watson:     </th> <td>   2.023</td>\n",
       "</tr>\n",
       "<tr>\n",
       "  <th>Prob(Omnibus):</th> <td> 0.651</td> <th>  Jarque-Bera (JB):  </th> <td>   0.839</td>\n",
       "</tr>\n",
       "<tr>\n",
       "  <th>Skew:</th>          <td> 0.019</td> <th>  Prob(JB):          </th> <td>   0.657</td>\n",
       "</tr>\n",
       "<tr>\n",
       "  <th>Kurtosis:</th>      <td> 3.012</td> <th>  Cond. No.          </th> <td>2.18e+03</td>\n",
       "</tr>\n",
       "</table><br/><br/>Notes:<br/>[1] Standard Errors assume that the covariance matrix of the errors is correctly specified.<br/>[2] The condition number is large, 2.18e+03. This might indicate that there are<br/>strong multicollinearity or other numerical problems."
      ],
      "text/latex": [
       "\\begin{center}\n",
       "\\begin{tabular}{lclc}\n",
       "\\toprule\n",
       "\\textbf{Dep. Variable:}                       &  np.log(renda)   & \\textbf{  R-squared:         } &     0.357   \\\\\n",
       "\\textbf{Model:}                               &       OLS        & \\textbf{  Adj. R-squared:    } &     0.356   \\\\\n",
       "\\textbf{Method:}                              &  Least Squares   & \\textbf{  F-statistic:       } &     287.5   \\\\\n",
       "\\textbf{Date:}                                & Mon, 02 Sep 2024 & \\textbf{  Prob (F-statistic):} &     0.00    \\\\\n",
       "\\textbf{Time:}                                &     08:23:50     & \\textbf{  Log-Likelihood:    } &   -13568.   \\\\\n",
       "\\textbf{No. Observations:}                    &       12427      & \\textbf{  AIC:               } & 2.719e+04   \\\\\n",
       "\\textbf{Df Residuals:}                        &       12402      & \\textbf{  BIC:               } & 2.737e+04   \\\\\n",
       "\\textbf{Df Model:}                            &          24      & \\textbf{                     } &             \\\\\n",
       "\\textbf{Covariance Type:}                     &    nonrobust     & \\textbf{                     } &             \\\\\n",
       "\\bottomrule\n",
       "\\end{tabular}\n",
       "\\begin{tabular}{lcccccc}\n",
       "                                              & \\textbf{coef} & \\textbf{std err} & \\textbf{t} & \\textbf{P$> |$t$|$} & \\textbf{[0.025} & \\textbf{0.975]}  \\\\\n",
       "\\midrule\n",
       "\\textbf{Intercept}                            &       6.5847  &        0.235     &    28.006  &         0.000        &        6.124    &        7.046     \\\\\n",
       "\\textbf{C(sexo)[T.M]}                         &       0.7874  &        0.015     &    53.723  &         0.000        &        0.759    &        0.816     \\\\\n",
       "\\textbf{posse\\_de\\_veiculo[T.True]}           &       0.0441  &        0.014     &     3.119  &         0.002        &        0.016    &        0.072     \\\\\n",
       "\\textbf{posse\\_de\\_imovel[T.True]}            &       0.0829  &        0.014     &     5.926  &         0.000        &        0.055    &        0.110     \\\\\n",
       "\\textbf{C(tipo\\_renda)[T.Bolsista]}           &       0.2209  &        0.241     &     0.916  &         0.360        &       -0.252    &        0.694     \\\\\n",
       "\\textbf{C(tipo\\_renda)[T.Empresário]}         &       0.1551  &        0.015     &    10.387  &         0.000        &        0.126    &        0.184     \\\\\n",
       "\\textbf{C(tipo\\_renda)[T.Pensionista]}        &      -0.3087  &        0.241     &    -1.280  &         0.201        &       -0.782    &        0.164     \\\\\n",
       "\\textbf{C(tipo\\_renda)[T.Servidor público]}   &       0.0576  &        0.022     &     2.591  &         0.010        &        0.014    &        0.101     \\\\\n",
       "\\textbf{C(educacao)[T.Pós graduação]}         &       0.1071  &        0.159     &     0.673  &         0.501        &       -0.205    &        0.419     \\\\\n",
       "\\textbf{C(educacao)[T.Secundário]}            &      -0.0141  &        0.072     &    -0.196  &         0.844        &       -0.155    &        0.127     \\\\\n",
       "\\textbf{C(educacao)[T.Superior completo]}     &       0.0938  &        0.072     &     1.298  &         0.194        &       -0.048    &        0.235     \\\\\n",
       "\\textbf{C(educacao)[T.Superior incompleto]}   &      -0.0432  &        0.078     &    -0.555  &         0.579        &       -0.196    &        0.109     \\\\\n",
       "\\textbf{C(estado\\_civil)[T.Separado]}         &       0.3265  &        0.111     &     2.935  &         0.003        &        0.108    &        0.545     \\\\\n",
       "\\textbf{C(estado\\_civil)[T.Solteiro]}         &       0.2672  &        0.109     &     2.453  &         0.014        &        0.054    &        0.481     \\\\\n",
       "\\textbf{C(estado\\_civil)[T.União]}            &      -0.0343  &        0.025     &    -1.361  &         0.174        &       -0.084    &        0.015     \\\\\n",
       "\\textbf{C(estado\\_civil)[T.Viúvo]}            &       0.3689  &        0.116     &     3.191  &         0.001        &        0.142    &        0.596     \\\\\n",
       "\\textbf{C(tipo\\_residencia)[T.Casa]}          &      -0.0442  &        0.054     &    -0.815  &         0.415        &       -0.150    &        0.062     \\\\\n",
       "\\textbf{C(tipo\\_residencia)[T.Com os pais]}   &      -0.0258  &        0.060     &    -0.427  &         0.670        &       -0.144    &        0.093     \\\\\n",
       "\\textbf{C(tipo\\_residencia)[T.Comunitário]}   &      -0.1196  &        0.105     &    -1.135  &         0.256        &       -0.326    &        0.087     \\\\\n",
       "\\textbf{C(tipo\\_residencia)[T.Estúdio]}       &       0.0665  &        0.099     &     0.670  &         0.503        &       -0.128    &        0.261     \\\\\n",
       "\\textbf{C(tipo\\_residencia)[T.Governamental]} &      -0.0571  &        0.066     &    -0.865  &         0.387        &       -0.186    &        0.072     \\\\\n",
       "\\textbf{qtd\\_filhos}                          &      -0.2658  &        0.108     &    -2.463  &         0.014        &       -0.477    &       -0.054     \\\\\n",
       "\\textbf{idade}                                &       0.0053  &        0.001     &     6.624  &         0.000        &        0.004    &        0.007     \\\\\n",
       "\\textbf{tempo\\_emprego}                       &       0.0617  &        0.001     &    59.398  &         0.000        &        0.060    &        0.064     \\\\\n",
       "\\textbf{qt\\_pessoas\\_residencia}              &       0.2926  &        0.108     &     2.716  &         0.007        &        0.081    &        0.504     \\\\\n",
       "\\bottomrule\n",
       "\\end{tabular}\n",
       "\\begin{tabular}{lclc}\n",
       "\\textbf{Omnibus:}       &  0.858 & \\textbf{  Durbin-Watson:     } &    2.023  \\\\\n",
       "\\textbf{Prob(Omnibus):} &  0.651 & \\textbf{  Jarque-Bera (JB):  } &    0.839  \\\\\n",
       "\\textbf{Skew:}          &  0.019 & \\textbf{  Prob(JB):          } &    0.657  \\\\\n",
       "\\textbf{Kurtosis:}      &  3.012 & \\textbf{  Cond. No.          } & 2.18e+03  \\\\\n",
       "\\bottomrule\n",
       "\\end{tabular}\n",
       "%\\caption{OLS Regression Results}\n",
       "\\end{center}\n",
       "\n",
       "Notes: \\newline\n",
       " [1] Standard Errors assume that the covariance matrix of the errors is correctly specified. \\newline\n",
       " [2] The condition number is large, 2.18e+03. This might indicate that there are \\newline\n",
       " strong multicollinearity or other numerical problems."
      ],
      "text/plain": [
       "<class 'statsmodels.iolib.summary.Summary'>\n",
       "\"\"\"\n",
       "                            OLS Regression Results                            \n",
       "==============================================================================\n",
       "Dep. Variable:          np.log(renda)   R-squared:                       0.357\n",
       "Model:                            OLS   Adj. R-squared:                  0.356\n",
       "Method:                 Least Squares   F-statistic:                     287.5\n",
       "Date:                Mon, 02 Sep 2024   Prob (F-statistic):               0.00\n",
       "Time:                        08:23:50   Log-Likelihood:                -13568.\n",
       "No. Observations:               12427   AIC:                         2.719e+04\n",
       "Df Residuals:                   12402   BIC:                         2.737e+04\n",
       "Df Model:                          24                                         \n",
       "Covariance Type:            nonrobust                                         \n",
       "=======================================================================================================\n",
       "                                          coef    std err          t      P>|t|      [0.025      0.975]\n",
       "-------------------------------------------------------------------------------------------------------\n",
       "Intercept                               6.5847      0.235     28.006      0.000       6.124       7.046\n",
       "C(sexo)[T.M]                            0.7874      0.015     53.723      0.000       0.759       0.816\n",
       "posse_de_veiculo[T.True]                0.0441      0.014      3.119      0.002       0.016       0.072\n",
       "posse_de_imovel[T.True]                 0.0829      0.014      5.926      0.000       0.055       0.110\n",
       "C(tipo_renda)[T.Bolsista]               0.2209      0.241      0.916      0.360      -0.252       0.694\n",
       "C(tipo_renda)[T.Empresário]             0.1551      0.015     10.387      0.000       0.126       0.184\n",
       "C(tipo_renda)[T.Pensionista]           -0.3087      0.241     -1.280      0.201      -0.782       0.164\n",
       "C(tipo_renda)[T.Servidor público]       0.0576      0.022      2.591      0.010       0.014       0.101\n",
       "C(educacao)[T.Pós graduação]            0.1071      0.159      0.673      0.501      -0.205       0.419\n",
       "C(educacao)[T.Secundário]              -0.0141      0.072     -0.196      0.844      -0.155       0.127\n",
       "C(educacao)[T.Superior completo]        0.0938      0.072      1.298      0.194      -0.048       0.235\n",
       "C(educacao)[T.Superior incompleto]     -0.0432      0.078     -0.555      0.579      -0.196       0.109\n",
       "C(estado_civil)[T.Separado]             0.3265      0.111      2.935      0.003       0.108       0.545\n",
       "C(estado_civil)[T.Solteiro]             0.2672      0.109      2.453      0.014       0.054       0.481\n",
       "C(estado_civil)[T.União]               -0.0343      0.025     -1.361      0.174      -0.084       0.015\n",
       "C(estado_civil)[T.Viúvo]                0.3689      0.116      3.191      0.001       0.142       0.596\n",
       "C(tipo_residencia)[T.Casa]             -0.0442      0.054     -0.815      0.415      -0.150       0.062\n",
       "C(tipo_residencia)[T.Com os pais]      -0.0258      0.060     -0.427      0.670      -0.144       0.093\n",
       "C(tipo_residencia)[T.Comunitário]      -0.1196      0.105     -1.135      0.256      -0.326       0.087\n",
       "C(tipo_residencia)[T.Estúdio]           0.0665      0.099      0.670      0.503      -0.128       0.261\n",
       "C(tipo_residencia)[T.Governamental]    -0.0571      0.066     -0.865      0.387      -0.186       0.072\n",
       "qtd_filhos                             -0.2658      0.108     -2.463      0.014      -0.477      -0.054\n",
       "idade                                   0.0053      0.001      6.624      0.000       0.004       0.007\n",
       "tempo_emprego                           0.0617      0.001     59.398      0.000       0.060       0.064\n",
       "qt_pessoas_residencia                   0.2926      0.108      2.716      0.007       0.081       0.504\n",
       "==============================================================================\n",
       "Omnibus:                        0.858   Durbin-Watson:                   2.023\n",
       "Prob(Omnibus):                  0.651   Jarque-Bera (JB):                0.839\n",
       "Skew:                           0.019   Prob(JB):                        0.657\n",
       "Kurtosis:                       3.012   Cond. No.                     2.18e+03\n",
       "==============================================================================\n",
       "\n",
       "Notes:\n",
       "[1] Standard Errors assume that the covariance matrix of the errors is correctly specified.\n",
       "[2] The condition number is large, 2.18e+03. This might indicate that there are\n",
       "strong multicollinearity or other numerical problems.\n",
       "\"\"\""
      ]
     },
     "execution_count": 35,
     "metadata": {},
     "output_type": "execute_result"
    }
   ],
   "source": [
    "# 1)\n",
    "\n",
    "y, X = patsy.dmatrices('np.log(renda) ~ C(sexo) + posse_de_veiculo + posse_de_imovel + qtd_filhos + C(tipo_renda) + C(educacao) + C(estado_civil) + C(tipo_residencia) + idade + tempo_emprego + qt_pessoas_residencia', data= df)\n",
    "\n",
    "reg = sm.OLS(y, X, data=df).fit()\n",
    "reg.summary()"
   ]
  },
  {
   "cell_type": "code",
   "execution_count": 41,
   "metadata": {},
   "outputs": [
    {
     "name": "stdout",
     "output_type": "stream",
     "text": [
      "                            OLS Regression Results                            \n",
      "==============================================================================\n",
      "Dep. Variable:          np.log(renda)   R-squared:                       0.354\n",
      "Model:                            OLS   Adj. R-squared:                  0.353\n",
      "Method:                 Least Squares   F-statistic:                     453.1\n",
      "Date:                Mon, 02 Sep 2024   Prob (F-statistic):               0.00\n",
      "Time:                        08:30:47   Log-Likelihood:                -13603.\n",
      "No. Observations:               12427   AIC:                         2.724e+04\n",
      "Df Residuals:                   12411   BIC:                         2.736e+04\n",
      "Df Model:                          15                                         \n",
      "Covariance Type:            nonrobust                                         \n",
      "=====================================================================================================\n",
      "                                        coef    std err          t      P>|t|      [0.025      0.975]\n",
      "-----------------------------------------------------------------------------------------------------\n",
      "Intercept                             6.5951      0.219     30.152      0.000       6.166       7.024\n",
      "C(sexo)[T.M]                          0.7819      0.015     53.480      0.000       0.753       0.811\n",
      "posse_de_veiculo[T.True]              0.0535      0.014      3.789      0.000       0.026       0.081\n",
      "posse_de_imovel[T.True]               0.0848      0.014      6.172      0.000       0.058       0.112\n",
      "C(tipo_renda)[T.Bolsista]             0.2998      0.242      1.241      0.215      -0.174       0.773\n",
      "C(tipo_renda)[T.Empresário]           0.1655      0.015     11.120      0.000       0.136       0.195\n",
      "C(tipo_renda)[T.Pensionista]         -0.2540      0.242     -1.051      0.293      -0.728       0.220\n",
      "C(tipo_renda)[T.Servidor público]     0.0769      0.022      3.472      0.001       0.033       0.120\n",
      "C(estado_civil)[T.Separado]           0.3241      0.112      2.907      0.004       0.106       0.543\n",
      "C(estado_civil)[T.Solteiro]           0.2623      0.109      2.403      0.016       0.048       0.476\n",
      "C(estado_civil)[T.União]             -0.0361      0.025     -1.431      0.153      -0.086       0.013\n",
      "C(estado_civil)[T.Viúvo]              0.3588      0.116      3.097      0.002       0.132       0.586\n",
      "qtd_filhos                           -0.2560      0.108     -2.366      0.018      -0.468      -0.044\n",
      "idade                                 0.0048      0.001      6.147      0.000       0.003       0.006\n",
      "tempo_emprego                         0.0617      0.001     59.407      0.000       0.060       0.064\n",
      "qt_pessoas_residencia                 0.2839      0.108      2.629      0.009       0.072       0.496\n",
      "==============================================================================\n",
      "Omnibus:                        1.149   Durbin-Watson:                   2.024\n",
      "Prob(Omnibus):                  0.563   Jarque-Bera (JB):                1.121\n",
      "Skew:                           0.021   Prob(JB):                        0.571\n",
      "Kurtosis:                       3.019   Cond. No.                     2.13e+03\n",
      "==============================================================================\n",
      "\n",
      "Notes:\n",
      "[1] Standard Errors assume that the covariance matrix of the errors is correctly specified.\n",
      "[2] The condition number is large, 2.13e+03. This might indicate that there are\n",
      "strong multicollinearity or other numerical problems.\n",
      "Houve um aumento insignificante em algumas covariaveis\n"
     ]
    },
    {
     "name": "stderr",
     "output_type": "stream",
     "text": [
      "C:\\Users\\enzob\\anaconda3\\Lib\\site-packages\\statsmodels\\base\\model.py:130: ValueWarning: unknown kwargs ['data']\n",
      "  warnings.warn(msg, ValueWarning)\n"
     ]
    }
   ],
   "source": [
    "# 2)\n",
    "\n",
    "y, X = patsy.dmatrices('np.log(renda) ~ C(sexo) + posse_de_veiculo + posse_de_imovel + qtd_filhos + C(tipo_renda) + C(estado_civil) + idade + tempo_emprego + qt_pessoas_residencia', data= df)\n",
    "\n",
    "reg = sm.OLS(y, X, data=df).fit()\n",
    "print(reg.summary())\n",
    "\n",
    "print('Houve um aumento insignificante em algumas covariaveis')"
   ]
  },
  {
   "cell_type": "code",
   "execution_count": 49,
   "metadata": {},
   "outputs": [
    {
     "name": "stdout",
     "output_type": "stream",
     "text": [
      "                            OLS Regression Results                            \n",
      "==============================================================================\n",
      "Dep. Variable:          np.log(renda)   R-squared:                       0.346\n",
      "Model:                            OLS   Adj. R-squared:                  0.346\n",
      "Method:                 Least Squares   F-statistic:                     1315.\n",
      "Date:                Mon, 02 Sep 2024   Prob (F-statistic):               0.00\n",
      "Time:                        08:33:36   Log-Likelihood:                -13676.\n",
      "No. Observations:               12427   AIC:                         2.736e+04\n",
      "Df Residuals:                   12421   BIC:                         2.741e+04\n",
      "Df Model:                           5                                         \n",
      "Covariance Type:            nonrobust                                         \n",
      "============================================================================================\n",
      "                               coef    std err          t      P>|t|      [0.025      0.975]\n",
      "--------------------------------------------------------------------------------------------\n",
      "Intercept                    7.2550      0.032    228.981      0.000       7.193       7.317\n",
      "C(sexo)[T.M]                 0.7700      0.015     52.851      0.000       0.741       0.799\n",
      "posse_de_veiculo[T.True]     0.0579      0.014      4.116      0.000       0.030       0.085\n",
      "posse_de_imovel[T.True]      0.0880      0.014      6.379      0.000       0.061       0.115\n",
      "idade                        0.0044      0.001      5.871      0.000       0.003       0.006\n",
      "tempo_emprego                0.0611      0.001     59.199      0.000       0.059       0.063\n",
      "==============================================================================\n",
      "Omnibus:                        1.248   Durbin-Watson:                   2.026\n",
      "Prob(Omnibus):                  0.536   Jarque-Bera (JB):                1.221\n",
      "Skew:                           0.022   Prob(JB):                        0.543\n",
      "Kurtosis:                       3.019   Cond. No.                         209.\n",
      "==============================================================================\n",
      "\n",
      "Notes:\n",
      "[1] Standard Errors assume that the covariance matrix of the errors is correctly specified.\n"
     ]
    },
    {
     "name": "stderr",
     "output_type": "stream",
     "text": [
      "C:\\Users\\enzob\\anaconda3\\Lib\\site-packages\\statsmodels\\base\\model.py:130: ValueWarning: unknown kwargs ['data']\n",
      "  warnings.warn(msg, ValueWarning)\n"
     ]
    }
   ],
   "source": [
    "y, X = patsy.dmatrices('np.log(renda) ~ C(sexo) + posse_de_veiculo + posse_de_imovel + idade + tempo_emprego', data= df)\n",
    "\n",
    "reg = sm.OLS(y, X, data=df).fit()\n",
    "print(reg.summary())"
   ]
  },
  {
   "cell_type": "markdown",
   "metadata": {},
   "source": [
    "### Conclusão\n",
    "\n",
    "Com base nos estudos, o modelo final se tornou melhor conclusivo para um estudo de previsão de renda."
   ]
  }
 ],
 "metadata": {
  "kernelspec": {
   "display_name": "Python 3 (ipykernel)",
   "language": "python",
   "name": "python3"
  },
  "language_info": {
   "codemirror_mode": {
    "name": "ipython",
    "version": 3
   },
   "file_extension": ".py",
   "mimetype": "text/x-python",
   "name": "python",
   "nbconvert_exporter": "python",
   "pygments_lexer": "ipython3",
   "version": "3.12.4"
  }
 },
 "nbformat": 4,
 "nbformat_minor": 4
}
